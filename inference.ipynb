{
  "cells": [
    {
      "cell_type": "markdown",
      "metadata": {
        "id": "AQci2KnD7o8G"
      },
      "source": [
        "# Libraries"
      ]
    },
    {
      "cell_type": "code",
      "execution_count": 65,
      "metadata": {
        "colab": {
          "base_uri": "https://localhost:8080/"
        },
        "id": "15BVZ8_J7o8J",
        "outputId": "aed9bb4d-2e62-4269-bd46-06c645b4c867"
      },
      "outputs": [],
      "source": [
        "# ---------------------------------- Tabular --------------------------------- #\n",
        "import numpy as np\n",
        "import pandas as pd\n",
        "# !pip install tabulate\n",
        "from tabulate import tabulate\n",
        "\n",
        "# -------------------------------- classifiers ------------------------------- #\n",
        "from sklearn.svm import SVC\n",
        "from sklearn.ensemble import AdaBoostClassifier, RandomForestClassifier, GradientBoostingClassifier, VotingClassifier\n",
        "from sklearn.tree import DecisionTreeClassifier\n",
        "from sklearn.neighbors import KNeighborsClassifier\n",
        "\n",
        "# ------------------------------- Scoring tools ------------------------------ #\n",
        "from sklearn.metrics import ConfusionMatrixDisplay, confusion_matrix, accuracy_score, f1_score, roc_auc_score\n",
        "\n",
        "# ------------------------------- Searche tools ------------------------------ #\n",
        "# !pip install scikit-optimize\n",
        "from skopt import BayesSearchCV\n",
        "from skopt.space import Real, Categorical, Integer\n",
        "\n",
        "# ----------------------------------- tools ---------------------------------- #\n",
        "from sklearn.base import BaseEstimator, TransformerMixin\n",
        "from sklearn.pipeline import Pipeline\n",
        "from sklearn.preprocessing import StandardScaler\n",
        "from sklearn.model_selection import train_test_split, StratifiedKFold\n",
        "from sklearn.impute import SimpleImputer\n",
        "# !pip install imblearn\n",
        "from imblearn.over_sampling import SMOTE\n",
        "\n",
        "# -------------------------------- Displaying -------------------------------- #\n",
        "from pprint import pprint\n",
        "import matplotlib.pyplot as plt\n",
        "# !pip install emoji\n",
        "import emoji\n",
        "\n",
        "# ------------------------------ Semi Supervised ----------------------------- #\n",
        "from sklearn.semi_supervised import SelfTrainingClassifier\n",
        "\n",
        "# -------------------------------- Explanation ------------------------------- #\n",
        "# !pip install shap\n",
        "# import shap"
      ]
    },
    {
      "cell_type": "code",
      "execution_count": 48,
      "metadata": {
        "id": "r5g5AgG6uNpI"
      },
      "outputs": [],
      "source": [
        "import warnings\n",
        "warnings.filterwarnings('ignore')"
      ]
    },
    {
      "cell_type": "markdown",
      "metadata": {
        "id": "TiUgSYmX7o8K"
      },
      "source": [
        "# Shared tools"
      ]
    },
    {
      "cell_type": "code",
      "execution_count": 49,
      "metadata": {
        "id": "x5IiKCvk7o8L"
      },
      "outputs": [],
      "source": [
        "def score(y_train, y_pred_train, y_dev, y_pred_dev, w_train=None, w_dev=None):\n",
        "    print(\"For Training dataset : \")\n",
        "    print(\"Accuracy : \", accuracy_score(y_train, y_pred_train, sample_weight=w_train))\n",
        "    ConfusionMatrixDisplay(confusion_matrix(y_train, y_pred_train), display_labels=[0,1]).plot()\n",
        "    plt.show()\n",
        "\n",
        "    print(\"For Dev set :\")\n",
        "    ConfusionMatrixDisplay(confusion_matrix(y_dev, y_pred_dev), display_labels=[0,1]).plot()\n",
        "    print(\"Accuracy : \", accuracy_score(y_dev, y_pred_dev, sample_weight=w_dev))\n",
        "    plt.show()\n",
        "\n",
        "def fast_models_reviews(x_train, x_dev, y_train, y_dev, use_weights = False, w_train=None, w_dev=None):\n",
        "    all_models = [ #name, model, support_for_weights?\n",
        "                  (\"SVC\", SVC(), True),\n",
        "                  (\"SVC_100000_0.1\", SVC(C=100000, gamma=0.1), True),\n",
        "                  (\"KNN\", KNeighborsClassifier(), False),\n",
        "                  ('XGB_50',GradientBoostingClassifier(n_estimators=50), True),\n",
        "                  ('XGB_200',GradientBoostingClassifier(n_estimators=200), True),\n",
        "                  ('ADA_50',AdaBoostClassifier(n_estimators=50), True),\n",
        "                  ('ADA_200',AdaBoostClassifier(n_estimators=200), True),\n",
        "                  ('RF_50',RandomForestClassifier(n_estimators=50), True),\n",
        "                  ('RF_200',RandomForestClassifier(n_estimators=200), True)\n",
        "    ]\n",
        "    accuracies = []\n",
        "    for name, model_no_pip, support_for_weights in all_models:\n",
        "      pipe = Pipeline(steps=[(\"Scale\", StandardScaler()), (\"classifier\", model_no_pip)])\n",
        "      if support_for_weights and use_weights  :\n",
        "        pipe.fit(x_train, y_train, classifier__sample_weight = w_train)\n",
        "      else :\n",
        "        pipe.fit(x_train, y_train)\n",
        "      y_pred_train = pipe.predict(x_train)\n",
        "      y_pred_dev = pipe.predict(x_dev)\n",
        "\n",
        "      if support_for_weights and use_weights  :\n",
        "        accuracies.append([name, int(accuracy_score(y_train, y_pred_train, sample_weight=w_train)*100), int(f1_score(y_train, y_pred_train, sample_weight=w_train)*100), int(accuracy_score(y_dev, y_pred_dev, sample_weight=w_dev)*100), int(f1_score(y_dev, y_pred_dev, sample_weight=w_dev)*100), emoji.emojize(\":check_mark_button:\")])\n",
        "      else:\n",
        "        accuracies.append([name, int(accuracy_score(y_train, y_pred_train)*100), int(f1_score(y_train, y_pred_train)*100), int(accuracy_score(y_dev, y_pred_dev)*100), int(f1_score(y_dev, y_pred_dev)*100), emoji.emojize(\":cross_mark:\")])\n",
        "    df = pd.DataFrame(accuracies, columns = [\"Model\", \"Train ACC\", \"Train F1\", \"Dev ACC\", \"Dev F1\", \"Used Weights\"])\n",
        "    print(tabulate(df, headers='keys', tablefmt='psql'))\n",
        "\n",
        "def callback_notifier(res):\n",
        "  print(\"*\",end=\"\")\n",
        "\n",
        "class Square(BaseEstimator, TransformerMixin):\n",
        "  def __init__(self):\n",
        "    pass\n",
        "  def fit(self, X, y=None):\n",
        "    return self\n",
        "  def transform(self, X, y=None):\n",
        "    return np.concatenate((X, X**2), axis=1)"
      ]
    },
    {
      "cell_type": "markdown",
      "metadata": {
        "id": "3Aqngxpl7o8L"
      },
      "source": [
        "# Import data"
      ]
    },
    {
      "cell_type": "code",
      "execution_count": 50,
      "metadata": {
        "colab": {
          "base_uri": "https://localhost:8080/",
          "height": 294
        },
        "id": "Zbx7tR9d7o8L",
        "outputId": "24cb7892-2bf4-41d4-ff52-e08a43b97ce2"
      },
      "outputs": [
        {
          "data": {
            "text/html": [
              "<div>\n",
              "<style scoped>\n",
              "    .dataframe tbody tr th:only-of-type {\n",
              "        vertical-align: middle;\n",
              "    }\n",
              "\n",
              "    .dataframe tbody tr th {\n",
              "        vertical-align: top;\n",
              "    }\n",
              "\n",
              "    .dataframe thead th {\n",
              "        text-align: right;\n",
              "    }\n",
              "</style>\n",
              "<table border=\"1\" class=\"dataframe\">\n",
              "  <thead>\n",
              "    <tr style=\"text-align: right;\">\n",
              "      <th></th>\n",
              "      <th>ph</th>\n",
              "      <th>Hardness</th>\n",
              "      <th>Solids</th>\n",
              "      <th>Chloramines</th>\n",
              "      <th>Sulfate</th>\n",
              "      <th>Conductivity</th>\n",
              "      <th>Organic_carbon</th>\n",
              "      <th>Trihalomethanes</th>\n",
              "      <th>Turbidity</th>\n",
              "      <th>Potability</th>\n",
              "    </tr>\n",
              "  </thead>\n",
              "  <tbody>\n",
              "    <tr>\n",
              "      <th>count</th>\n",
              "      <td>2785.000000</td>\n",
              "      <td>3276.000000</td>\n",
              "      <td>3276.000000</td>\n",
              "      <td>3276.000000</td>\n",
              "      <td>2495.000000</td>\n",
              "      <td>3276.000000</td>\n",
              "      <td>3276.000000</td>\n",
              "      <td>3114.000000</td>\n",
              "      <td>3276.000000</td>\n",
              "      <td>3276.000000</td>\n",
              "    </tr>\n",
              "    <tr>\n",
              "      <th>mean</th>\n",
              "      <td>7.080795</td>\n",
              "      <td>196.369496</td>\n",
              "      <td>22014.092526</td>\n",
              "      <td>7.122277</td>\n",
              "      <td>333.775777</td>\n",
              "      <td>426.205111</td>\n",
              "      <td>14.284970</td>\n",
              "      <td>66.396293</td>\n",
              "      <td>3.966786</td>\n",
              "      <td>0.390110</td>\n",
              "    </tr>\n",
              "    <tr>\n",
              "      <th>std</th>\n",
              "      <td>1.594320</td>\n",
              "      <td>32.879761</td>\n",
              "      <td>8768.570828</td>\n",
              "      <td>1.583085</td>\n",
              "      <td>41.416840</td>\n",
              "      <td>80.824064</td>\n",
              "      <td>3.308162</td>\n",
              "      <td>16.175008</td>\n",
              "      <td>0.780382</td>\n",
              "      <td>0.487849</td>\n",
              "    </tr>\n",
              "    <tr>\n",
              "      <th>min</th>\n",
              "      <td>0.000000</td>\n",
              "      <td>47.432000</td>\n",
              "      <td>320.942611</td>\n",
              "      <td>0.352000</td>\n",
              "      <td>129.000000</td>\n",
              "      <td>181.483754</td>\n",
              "      <td>2.200000</td>\n",
              "      <td>0.738000</td>\n",
              "      <td>1.450000</td>\n",
              "      <td>0.000000</td>\n",
              "    </tr>\n",
              "    <tr>\n",
              "      <th>25%</th>\n",
              "      <td>6.093092</td>\n",
              "      <td>176.850538</td>\n",
              "      <td>15666.690300</td>\n",
              "      <td>6.127421</td>\n",
              "      <td>307.699498</td>\n",
              "      <td>365.734414</td>\n",
              "      <td>12.065801</td>\n",
              "      <td>55.844536</td>\n",
              "      <td>3.439711</td>\n",
              "      <td>0.000000</td>\n",
              "    </tr>\n",
              "    <tr>\n",
              "      <th>50%</th>\n",
              "      <td>7.036752</td>\n",
              "      <td>196.967627</td>\n",
              "      <td>20927.833605</td>\n",
              "      <td>7.130299</td>\n",
              "      <td>333.073546</td>\n",
              "      <td>421.884968</td>\n",
              "      <td>14.218338</td>\n",
              "      <td>66.622485</td>\n",
              "      <td>3.955028</td>\n",
              "      <td>0.000000</td>\n",
              "    </tr>\n",
              "    <tr>\n",
              "      <th>75%</th>\n",
              "      <td>8.062066</td>\n",
              "      <td>216.667456</td>\n",
              "      <td>27332.762125</td>\n",
              "      <td>8.114887</td>\n",
              "      <td>359.950170</td>\n",
              "      <td>481.792305</td>\n",
              "      <td>16.557652</td>\n",
              "      <td>77.337473</td>\n",
              "      <td>4.500320</td>\n",
              "      <td>1.000000</td>\n",
              "    </tr>\n",
              "    <tr>\n",
              "      <th>max</th>\n",
              "      <td>14.000000</td>\n",
              "      <td>323.124000</td>\n",
              "      <td>61227.196010</td>\n",
              "      <td>13.127000</td>\n",
              "      <td>481.030642</td>\n",
              "      <td>753.342620</td>\n",
              "      <td>28.300000</td>\n",
              "      <td>124.000000</td>\n",
              "      <td>6.739000</td>\n",
              "      <td>1.000000</td>\n",
              "    </tr>\n",
              "  </tbody>\n",
              "</table>\n",
              "</div>"
            ],
            "text/plain": [
              "                ph     Hardness        Solids  Chloramines      Sulfate  \\\n",
              "count  2785.000000  3276.000000   3276.000000  3276.000000  2495.000000   \n",
              "mean      7.080795   196.369496  22014.092526     7.122277   333.775777   \n",
              "std       1.594320    32.879761   8768.570828     1.583085    41.416840   \n",
              "min       0.000000    47.432000    320.942611     0.352000   129.000000   \n",
              "25%       6.093092   176.850538  15666.690300     6.127421   307.699498   \n",
              "50%       7.036752   196.967627  20927.833605     7.130299   333.073546   \n",
              "75%       8.062066   216.667456  27332.762125     8.114887   359.950170   \n",
              "max      14.000000   323.124000  61227.196010    13.127000   481.030642   \n",
              "\n",
              "       Conductivity  Organic_carbon  Trihalomethanes    Turbidity   Potability  \n",
              "count   3276.000000     3276.000000      3114.000000  3276.000000  3276.000000  \n",
              "mean     426.205111       14.284970        66.396293     3.966786     0.390110  \n",
              "std       80.824064        3.308162        16.175008     0.780382     0.487849  \n",
              "min      181.483754        2.200000         0.738000     1.450000     0.000000  \n",
              "25%      365.734414       12.065801        55.844536     3.439711     0.000000  \n",
              "50%      421.884968       14.218338        66.622485     3.955028     0.000000  \n",
              "75%      481.792305       16.557652        77.337473     4.500320     1.000000  \n",
              "max      753.342620       28.300000       124.000000     6.739000     1.000000  "
            ]
          },
          "execution_count": 50,
          "metadata": {},
          "output_type": "execute_result"
        }
      ],
      "source": [
        "data = pd.read_csv(\"data/drinking_water_potability.csv\", index_col= False)\n",
        "data.describe()"
      ]
    },
    {
      "cell_type": "markdown",
      "metadata": {
        "id": "_duwLzyA7o8M"
      },
      "source": [
        "# Model by deleting missing values"
      ]
    },
    {
      "cell_type": "markdown",
      "metadata": {
        "id": "jMnIvnvN7o8N"
      },
      "source": [
        "## Remove Missing values and build dataset"
      ]
    },
    {
      "cell_type": "code",
      "execution_count": 110,
      "metadata": {
        "colab": {
          "base_uri": "https://localhost:8080/",
          "height": 294
        },
        "id": "5g2fcorX7o8N",
        "outputId": "3e74175b-51bb-4ad2-dac9-aacb1ea9c705"
      },
      "outputs": [
        {
          "data": {
            "text/html": [
              "<div>\n",
              "<style scoped>\n",
              "    .dataframe tbody tr th:only-of-type {\n",
              "        vertical-align: middle;\n",
              "    }\n",
              "\n",
              "    .dataframe tbody tr th {\n",
              "        vertical-align: top;\n",
              "    }\n",
              "\n",
              "    .dataframe thead th {\n",
              "        text-align: right;\n",
              "    }\n",
              "</style>\n",
              "<table border=\"1\" class=\"dataframe\">\n",
              "  <thead>\n",
              "    <tr style=\"text-align: right;\">\n",
              "      <th></th>\n",
              "      <th>ph</th>\n",
              "      <th>Hardness</th>\n",
              "      <th>Solids</th>\n",
              "      <th>Chloramines</th>\n",
              "      <th>Sulfate</th>\n",
              "      <th>Conductivity</th>\n",
              "      <th>Organic_carbon</th>\n",
              "      <th>Trihalomethanes</th>\n",
              "      <th>Turbidity</th>\n",
              "      <th>Potability</th>\n",
              "    </tr>\n",
              "  </thead>\n",
              "  <tbody>\n",
              "    <tr>\n",
              "      <th>count</th>\n",
              "      <td>2011.000000</td>\n",
              "      <td>2011.000000</td>\n",
              "      <td>2011.000000</td>\n",
              "      <td>2011.000000</td>\n",
              "      <td>2011.000000</td>\n",
              "      <td>2011.000000</td>\n",
              "      <td>2011.000000</td>\n",
              "      <td>2011.000000</td>\n",
              "      <td>2011.000000</td>\n",
              "      <td>2011.000000</td>\n",
              "    </tr>\n",
              "    <tr>\n",
              "      <th>mean</th>\n",
              "      <td>7.085990</td>\n",
              "      <td>195.968072</td>\n",
              "      <td>21917.441375</td>\n",
              "      <td>7.134338</td>\n",
              "      <td>333.224672</td>\n",
              "      <td>426.526409</td>\n",
              "      <td>14.357709</td>\n",
              "      <td>66.400859</td>\n",
              "      <td>3.969729</td>\n",
              "      <td>0.403282</td>\n",
              "    </tr>\n",
              "    <tr>\n",
              "      <th>std</th>\n",
              "      <td>1.573337</td>\n",
              "      <td>32.635085</td>\n",
              "      <td>8642.239815</td>\n",
              "      <td>1.584820</td>\n",
              "      <td>41.205172</td>\n",
              "      <td>80.712572</td>\n",
              "      <td>3.324959</td>\n",
              "      <td>16.077109</td>\n",
              "      <td>0.780346</td>\n",
              "      <td>0.490678</td>\n",
              "    </tr>\n",
              "    <tr>\n",
              "      <th>min</th>\n",
              "      <td>0.227499</td>\n",
              "      <td>73.492234</td>\n",
              "      <td>320.942611</td>\n",
              "      <td>1.390871</td>\n",
              "      <td>129.000000</td>\n",
              "      <td>201.619737</td>\n",
              "      <td>2.200000</td>\n",
              "      <td>8.577013</td>\n",
              "      <td>1.450000</td>\n",
              "      <td>0.000000</td>\n",
              "    </tr>\n",
              "    <tr>\n",
              "      <th>25%</th>\n",
              "      <td>6.089723</td>\n",
              "      <td>176.744938</td>\n",
              "      <td>15615.665390</td>\n",
              "      <td>6.138895</td>\n",
              "      <td>307.632511</td>\n",
              "      <td>366.680307</td>\n",
              "      <td>12.124105</td>\n",
              "      <td>55.952664</td>\n",
              "      <td>3.442915</td>\n",
              "      <td>0.000000</td>\n",
              "    </tr>\n",
              "    <tr>\n",
              "      <th>50%</th>\n",
              "      <td>7.027297</td>\n",
              "      <td>197.191839</td>\n",
              "      <td>20933.512750</td>\n",
              "      <td>7.143907</td>\n",
              "      <td>332.232177</td>\n",
              "      <td>423.455906</td>\n",
              "      <td>14.322019</td>\n",
              "      <td>66.542198</td>\n",
              "      <td>3.968177</td>\n",
              "      <td>0.000000</td>\n",
              "    </tr>\n",
              "    <tr>\n",
              "      <th>75%</th>\n",
              "      <td>8.052969</td>\n",
              "      <td>216.441070</td>\n",
              "      <td>27182.587065</td>\n",
              "      <td>8.109726</td>\n",
              "      <td>359.330555</td>\n",
              "      <td>482.373169</td>\n",
              "      <td>16.683049</td>\n",
              "      <td>77.291925</td>\n",
              "      <td>4.514175</td>\n",
              "      <td>1.000000</td>\n",
              "    </tr>\n",
              "    <tr>\n",
              "      <th>max</th>\n",
              "      <td>14.000000</td>\n",
              "      <td>317.338124</td>\n",
              "      <td>56488.672410</td>\n",
              "      <td>13.127000</td>\n",
              "      <td>481.030642</td>\n",
              "      <td>753.342620</td>\n",
              "      <td>27.006707</td>\n",
              "      <td>124.000000</td>\n",
              "      <td>6.494749</td>\n",
              "      <td>1.000000</td>\n",
              "    </tr>\n",
              "  </tbody>\n",
              "</table>\n",
              "</div>"
            ],
            "text/plain": [
              "                ph     Hardness  ...    Turbidity   Potability\n",
              "count  2011.000000  2011.000000  ...  2011.000000  2011.000000\n",
              "mean      7.085990   195.968072  ...     3.969729     0.403282\n",
              "std       1.573337    32.635085  ...     0.780346     0.490678\n",
              "min       0.227499    73.492234  ...     1.450000     0.000000\n",
              "25%       6.089723   176.744938  ...     3.442915     0.000000\n",
              "50%       7.027297   197.191839  ...     3.968177     0.000000\n",
              "75%       8.052969   216.441070  ...     4.514175     1.000000\n",
              "max      14.000000   317.338124  ...     6.494749     1.000000\n",
              "\n",
              "[8 rows x 10 columns]"
            ]
          },
          "execution_count": 110,
          "metadata": {},
          "output_type": "execute_result"
        }
      ],
      "source": [
        "data_dropped_na = pd.DataFrame(data[data.isna().sum(axis = 1)==0])\n",
        "data_dropped_na.describe()"
      ]
    },
    {
      "cell_type": "code",
      "execution_count": 111,
      "metadata": {
        "id": "7JEPyjUL7o8O"
      },
      "outputs": [],
      "source": [
        "training_columns = ['ph', 'Hardness', 'Solids', 'Chloramines', 'Sulfate', 'Conductivity','Organic_carbon', 'Trihalomethanes', 'Turbidity']\n",
        "predict_column = ['Potability']\n",
        "X = data_dropped_na[training_columns]\n",
        "Y = data_dropped_na[predict_column]"
      ]
    },
    {
      "cell_type": "markdown",
      "metadata": {
        "id": "NkTpGjew7o8O"
      },
      "source": [
        "## Split train and dev"
      ]
    },
    {
      "cell_type": "code",
      "execution_count": 112,
      "metadata": {
        "id": "UCVE_p437o8O"
      },
      "outputs": [],
      "source": [
        "x_train, x_dev, y_train, y_dev = train_test_split(X, Y, test_size= 0.2)"
      ]
    },
    {
      "cell_type": "markdown",
      "metadata": {
        "id": "DaB0IYrs7o8P"
      },
      "source": [
        "## Adaboost"
      ]
    },
    {
      "cell_type": "code",
      "execution_count": 113,
      "metadata": {
        "colab": {
          "base_uri": "https://localhost:8080/",
          "height": 608
        },
        "id": "7icRNZ9j7o8P",
        "outputId": "0985f376-2e4c-40ea-94ef-7e9fb6907743"
      },
      "outputs": [
        {
          "name": "stdout",
          "output_type": "stream",
          "text": [
            "For Training dataset : \n",
            "Accuracy :  0.9732587064676617\n"
          ]
        },
        {
          "data": {
            "image/png": "[encoded data removed]",
            "text/plain": [
              "<Figure size 432x288 with 2 Axes>"
            ]
          },
          "metadata": {
            "needs_background": "light"
          },
          "output_type": "display_data"
        },
        {
          "name": "stdout",
          "output_type": "stream",
          "text": [
            "For Dev set :\n",
            "Accuracy :  0.6153846153846154\n"
          ]
        },
        {
          "data": {
            "image/png": "[encoded data removed]",
            "text/plain": [
              "<Figure size 432x288 with 2 Axes>"
            ]
          },
          "metadata": {
            "needs_background": "light"
          },
          "output_type": "display_data"
        }
      ],
      "source": [
        "model = AdaBoostClassifier(DecisionTreeClassifier(max_depth=3) ,n_estimators=60)\n",
        "\n",
        "model.fit(x_train, y_train)\n",
        "\n",
        "y_pred_train = model.predict(x_train)\n",
        "y_pred_dev = model.predict(x_dev)\n",
        "\n",
        "score(y_train, y_pred_train, y_dev, y_pred_dev)"
      ]
    },
    {
      "cell_type": "markdown",
      "metadata": {
        "id": "H9t18gtr7o8P"
      },
      "source": [
        "## Random Forest"
      ]
    },
    {
      "cell_type": "code",
      "execution_count": 114,
      "metadata": {
        "colab": {
          "base_uri": "https://localhost:8080/",
          "height": 503
        },
        "id": "Y7Oks9IH7o8P",
        "outputId": "722b0857-e2f2-478a-ef15-5c81fd82df40"
      },
      "outputs": [
        {
          "ename": "KeyboardInterrupt",
          "evalue": "ignored",
          "output_type": "error",
          "traceback": [
            "\u001b[0;31m---------------------------------------------------------------------------\u001b[0m",
            "\u001b[0;31mKeyboardInterrupt\u001b[0m                         Traceback (most recent call last)",
            "\u001b[0;32m<ipython-input-114-b2ec25b2dbed>\u001b[0m in \u001b[0;36m<module>\u001b[0;34m()\u001b[0m\n\u001b[1;32m      1\u001b[0m \u001b[0mmodel\u001b[0m \u001b[0;34m=\u001b[0m \u001b[0mRandomForestClassifier\u001b[0m\u001b[0;34m(\u001b[0m\u001b[0mn_estimators\u001b[0m\u001b[0;34m=\u001b[0m\u001b[0;36m10000\u001b[0m\u001b[0;34m)\u001b[0m\u001b[0;34m\u001b[0m\u001b[0;34m\u001b[0m\u001b[0m\n\u001b[1;32m      2\u001b[0m \u001b[0;34m\u001b[0m\u001b[0m\n\u001b[0;32m----> 3\u001b[0;31m \u001b[0mmodel\u001b[0m\u001b[0;34m.\u001b[0m\u001b[0mfit\u001b[0m\u001b[0;34m(\u001b[0m\u001b[0mx_train\u001b[0m\u001b[0;34m,\u001b[0m \u001b[0my_train\u001b[0m\u001b[0;34m)\u001b[0m\u001b[0;34m\u001b[0m\u001b[0;34m\u001b[0m\u001b[0m\n\u001b[0m\u001b[1;32m      4\u001b[0m \u001b[0;34m\u001b[0m\u001b[0m\n\u001b[1;32m      5\u001b[0m \u001b[0my_pred_train\u001b[0m \u001b[0;34m=\u001b[0m \u001b[0mmodel\u001b[0m\u001b[0;34m.\u001b[0m\u001b[0mpredict\u001b[0m\u001b[0;34m(\u001b[0m\u001b[0mx_train\u001b[0m\u001b[0;34m)\u001b[0m\u001b[0;34m\u001b[0m\u001b[0;34m\u001b[0m\u001b[0m\n",
            "\u001b[0;32m/usr/local/lib/python3.7/dist-packages/sklearn/ensemble/_forest.py\u001b[0m in \u001b[0;36mfit\u001b[0;34m(self, X, y, sample_weight)\u001b[0m\n\u001b[1;32m    381\u001b[0m                     \u001b[0mverbose\u001b[0m\u001b[0;34m=\u001b[0m\u001b[0mself\u001b[0m\u001b[0;34m.\u001b[0m\u001b[0mverbose\u001b[0m\u001b[0;34m,\u001b[0m \u001b[0mclass_weight\u001b[0m\u001b[0;34m=\u001b[0m\u001b[0mself\u001b[0m\u001b[0;34m.\u001b[0m\u001b[0mclass_weight\u001b[0m\u001b[0;34m,\u001b[0m\u001b[0;34m\u001b[0m\u001b[0;34m\u001b[0m\u001b[0m\n\u001b[1;32m    382\u001b[0m                     n_samples_bootstrap=n_samples_bootstrap)\n\u001b[0;32m--> 383\u001b[0;31m                 for i, t in enumerate(trees))\n\u001b[0m\u001b[1;32m    384\u001b[0m \u001b[0;34m\u001b[0m\u001b[0m\n\u001b[1;32m    385\u001b[0m             \u001b[0;31m# Collect newly grown trees\u001b[0m\u001b[0;34m\u001b[0m\u001b[0;34m\u001b[0m\u001b[0;34m\u001b[0m\u001b[0m\n",
            "\u001b[0;32m/usr/local/lib/python3.7/dist-packages/joblib/parallel.py\u001b[0m in \u001b[0;36m__call__\u001b[0;34m(self, iterable)\u001b[0m\n\u001b[1;32m   1042\u001b[0m                 \u001b[0mself\u001b[0m\u001b[0;34m.\u001b[0m\u001b[0m_iterating\u001b[0m \u001b[0;34m=\u001b[0m \u001b[0mself\u001b[0m\u001b[0;34m.\u001b[0m\u001b[0m_original_iterator\u001b[0m \u001b[0;32mis\u001b[0m \u001b[0;32mnot\u001b[0m \u001b[0;32mNone\u001b[0m\u001b[0;34m\u001b[0m\u001b[0;34m\u001b[0m\u001b[0m\n\u001b[1;32m   1043\u001b[0m \u001b[0;34m\u001b[0m\u001b[0m\n\u001b[0;32m-> 1044\u001b[0;31m             \u001b[0;32mwhile\u001b[0m \u001b[0mself\u001b[0m\u001b[0;34m.\u001b[0m\u001b[0mdispatch_one_batch\u001b[0m\u001b[0;34m(\u001b[0m\u001b[0miterator\u001b[0m\u001b[0;34m)\u001b[0m\u001b[0;34m:\u001b[0m\u001b[0;34m\u001b[0m\u001b[0;34m\u001b[0m\u001b[0m\n\u001b[0m\u001b[1;32m   1045\u001b[0m                 \u001b[0;32mpass\u001b[0m\u001b[0;34m\u001b[0m\u001b[0;34m\u001b[0m\u001b[0m\n\u001b[1;32m   1046\u001b[0m \u001b[0;34m\u001b[0m\u001b[0m\n",
            "\u001b[0;32m/usr/local/lib/python3.7/dist-packages/joblib/parallel.py\u001b[0m in \u001b[0;36mdispatch_one_batch\u001b[0;34m(self, iterator)\u001b[0m\n\u001b[1;32m    857\u001b[0m                 \u001b[0;32mreturn\u001b[0m \u001b[0;32mFalse\u001b[0m\u001b[0;34m\u001b[0m\u001b[0;34m\u001b[0m\u001b[0m\n\u001b[1;32m    858\u001b[0m             \u001b[0;32melse\u001b[0m\u001b[0;34m:\u001b[0m\u001b[0;34m\u001b[0m\u001b[0;34m\u001b[0m\u001b[0m\n\u001b[0;32m--> 859\u001b[0;31m                 \u001b[0mself\u001b[0m\u001b[0;34m.\u001b[0m\u001b[0m_dispatch\u001b[0m\u001b[0;34m(\u001b[0m\u001b[0mtasks\u001b[0m\u001b[0;34m)\u001b[0m\u001b[0;34m\u001b[0m\u001b[0;34m\u001b[0m\u001b[0m\n\u001b[0m\u001b[1;32m    860\u001b[0m                 \u001b[0;32mreturn\u001b[0m \u001b[0;32mTrue\u001b[0m\u001b[0;34m\u001b[0m\u001b[0;34m\u001b[0m\u001b[0m\n\u001b[1;32m    861\u001b[0m \u001b[0;34m\u001b[0m\u001b[0m\n",
            "\u001b[0;32m/usr/local/lib/python3.7/dist-packages/joblib/parallel.py\u001b[0m in \u001b[0;36m_dispatch\u001b[0;34m(self, batch)\u001b[0m\n\u001b[1;32m    775\u001b[0m         \u001b[0;32mwith\u001b[0m \u001b[0mself\u001b[0m\u001b[0;34m.\u001b[0m\u001b[0m_lock\u001b[0m\u001b[0;34m:\u001b[0m\u001b[0;34m\u001b[0m\u001b[0;34m\u001b[0m\u001b[0m\n\u001b[1;32m    776\u001b[0m             \u001b[0mjob_idx\u001b[0m \u001b[0;34m=\u001b[0m \u001b[0mlen\u001b[0m\u001b[0;34m(\u001b[0m\u001b[0mself\u001b[0m\u001b[0;34m.\u001b[0m\u001b[0m_jobs\u001b[0m\u001b[0;34m)\u001b[0m\u001b[0;34m\u001b[0m\u001b[0;34m\u001b[0m\u001b[0m\n\u001b[0;32m--> 777\u001b[0;31m             \u001b[0mjob\u001b[0m \u001b[0;34m=\u001b[0m \u001b[0mself\u001b[0m\u001b[0;34m.\u001b[0m\u001b[0m_backend\u001b[0m\u001b[0;34m.\u001b[0m\u001b[0mapply_async\u001b[0m\u001b[0;34m(\u001b[0m\u001b[0mbatch\u001b[0m\u001b[0;34m,\u001b[0m \u001b[0mcallback\u001b[0m\u001b[0;34m=\u001b[0m\u001b[0mcb\u001b[0m\u001b[0;34m)\u001b[0m\u001b[0;34m\u001b[0m\u001b[0;34m\u001b[0m\u001b[0m\n\u001b[0m\u001b[1;32m    778\u001b[0m             \u001b[0;31m# A job can complete so quickly than its callback is\u001b[0m\u001b[0;34m\u001b[0m\u001b[0;34m\u001b[0m\u001b[0;34m\u001b[0m\u001b[0m\n\u001b[1;32m    779\u001b[0m             \u001b[0;31m# called before we get here, causing self._jobs to\u001b[0m\u001b[0;34m\u001b[0m\u001b[0;34m\u001b[0m\u001b[0;34m\u001b[0m\u001b[0m\n",
            "\u001b[0;32m/usr/local/lib/python3.7/dist-packages/joblib/_parallel_backends.py\u001b[0m in \u001b[0;36mapply_async\u001b[0;34m(self, func, callback)\u001b[0m\n\u001b[1;32m    206\u001b[0m     \u001b[0;32mdef\u001b[0m \u001b[0mapply_async\u001b[0m\u001b[0;34m(\u001b[0m\u001b[0mself\u001b[0m\u001b[0;34m,\u001b[0m \u001b[0mfunc\u001b[0m\u001b[0;34m,\u001b[0m \u001b[0mcallback\u001b[0m\u001b[0;34m=\u001b[0m\u001b[0;32mNone\u001b[0m\u001b[0;34m)\u001b[0m\u001b[0;34m:\u001b[0m\u001b[0;34m\u001b[0m\u001b[0;34m\u001b[0m\u001b[0m\n\u001b[1;32m    207\u001b[0m         \u001b[0;34m\"\"\"Schedule a func to be run\"\"\"\u001b[0m\u001b[0;34m\u001b[0m\u001b[0;34m\u001b[0m\u001b[0m\n\u001b[0;32m--> 208\u001b[0;31m         \u001b[0mresult\u001b[0m \u001b[0;34m=\u001b[0m \u001b[0mImmediateResult\u001b[0m\u001b[0;34m(\u001b[0m\u001b[0mfunc\u001b[0m\u001b[0;34m)\u001b[0m\u001b[0;34m\u001b[0m\u001b[0;34m\u001b[0m\u001b[0m\n\u001b[0m\u001b[1;32m    209\u001b[0m         \u001b[0;32mif\u001b[0m \u001b[0mcallback\u001b[0m\u001b[0;34m:\u001b[0m\u001b[0;34m\u001b[0m\u001b[0;34m\u001b[0m\u001b[0m\n\u001b[1;32m    210\u001b[0m             \u001b[0mcallback\u001b[0m\u001b[0;34m(\u001b[0m\u001b[0mresult\u001b[0m\u001b[0;34m)\u001b[0m\u001b[0;34m\u001b[0m\u001b[0;34m\u001b[0m\u001b[0m\n",
            "\u001b[0;32m/usr/local/lib/python3.7/dist-packages/joblib/_parallel_backends.py\u001b[0m in \u001b[0;36m__init__\u001b[0;34m(self, batch)\u001b[0m\n\u001b[1;32m    570\u001b[0m         \u001b[0;31m# Don't delay the application, to avoid keeping the input\u001b[0m\u001b[0;34m\u001b[0m\u001b[0;34m\u001b[0m\u001b[0;34m\u001b[0m\u001b[0m\n\u001b[1;32m    571\u001b[0m         \u001b[0;31m# arguments in memory\u001b[0m\u001b[0;34m\u001b[0m\u001b[0;34m\u001b[0m\u001b[0;34m\u001b[0m\u001b[0m\n\u001b[0;32m--> 572\u001b[0;31m         \u001b[0mself\u001b[0m\u001b[0;34m.\u001b[0m\u001b[0mresults\u001b[0m \u001b[0;34m=\u001b[0m \u001b[0mbatch\u001b[0m\u001b[0;34m(\u001b[0m\u001b[0;34m)\u001b[0m\u001b[0;34m\u001b[0m\u001b[0;34m\u001b[0m\u001b[0m\n\u001b[0m\u001b[1;32m    573\u001b[0m \u001b[0;34m\u001b[0m\u001b[0m\n\u001b[1;32m    574\u001b[0m     \u001b[0;32mdef\u001b[0m \u001b[0mget\u001b[0m\u001b[0;34m(\u001b[0m\u001b[0mself\u001b[0m\u001b[0;34m)\u001b[0m\u001b[0;34m:\u001b[0m\u001b[0;34m\u001b[0m\u001b[0;34m\u001b[0m\u001b[0m\n",
            "\u001b[0;32m/usr/local/lib/python3.7/dist-packages/joblib/parallel.py\u001b[0m in \u001b[0;36m__call__\u001b[0;34m(self)\u001b[0m\n\u001b[1;32m    261\u001b[0m         \u001b[0;32mwith\u001b[0m \u001b[0mparallel_backend\u001b[0m\u001b[0;34m(\u001b[0m\u001b[0mself\u001b[0m\u001b[0;34m.\u001b[0m\u001b[0m_backend\u001b[0m\u001b[0;34m,\u001b[0m \u001b[0mn_jobs\u001b[0m\u001b[0;34m=\u001b[0m\u001b[0mself\u001b[0m\u001b[0;34m.\u001b[0m\u001b[0m_n_jobs\u001b[0m\u001b[0;34m)\u001b[0m\u001b[0;34m:\u001b[0m\u001b[0;34m\u001b[0m\u001b[0;34m\u001b[0m\u001b[0m\n\u001b[1;32m    262\u001b[0m             return [func(*args, **kwargs)\n\u001b[0;32m--> 263\u001b[0;31m                     for func, args, kwargs in self.items]\n\u001b[0m\u001b[1;32m    264\u001b[0m \u001b[0;34m\u001b[0m\u001b[0m\n\u001b[1;32m    265\u001b[0m     \u001b[0;32mdef\u001b[0m \u001b[0m__reduce__\u001b[0m\u001b[0;34m(\u001b[0m\u001b[0mself\u001b[0m\u001b[0;34m)\u001b[0m\u001b[0;34m:\u001b[0m\u001b[0;34m\u001b[0m\u001b[0;34m\u001b[0m\u001b[0m\n",
            "\u001b[0;32m/usr/local/lib/python3.7/dist-packages/joblib/parallel.py\u001b[0m in \u001b[0;36m<listcomp>\u001b[0;34m(.0)\u001b[0m\n\u001b[1;32m    261\u001b[0m         \u001b[0;32mwith\u001b[0m \u001b[0mparallel_backend\u001b[0m\u001b[0;34m(\u001b[0m\u001b[0mself\u001b[0m\u001b[0;34m.\u001b[0m\u001b[0m_backend\u001b[0m\u001b[0;34m,\u001b[0m \u001b[0mn_jobs\u001b[0m\u001b[0;34m=\u001b[0m\u001b[0mself\u001b[0m\u001b[0;34m.\u001b[0m\u001b[0m_n_jobs\u001b[0m\u001b[0;34m)\u001b[0m\u001b[0;34m:\u001b[0m\u001b[0;34m\u001b[0m\u001b[0;34m\u001b[0m\u001b[0m\n\u001b[1;32m    262\u001b[0m             return [func(*args, **kwargs)\n\u001b[0;32m--> 263\u001b[0;31m                     for func, args, kwargs in self.items]\n\u001b[0m\u001b[1;32m    264\u001b[0m \u001b[0;34m\u001b[0m\u001b[0m\n\u001b[1;32m    265\u001b[0m     \u001b[0;32mdef\u001b[0m \u001b[0m__reduce__\u001b[0m\u001b[0;34m(\u001b[0m\u001b[0mself\u001b[0m\u001b[0;34m)\u001b[0m\u001b[0;34m:\u001b[0m\u001b[0;34m\u001b[0m\u001b[0;34m\u001b[0m\u001b[0m\n",
            "\u001b[0;32m/usr/local/lib/python3.7/dist-packages/sklearn/ensemble/_forest.py\u001b[0m in \u001b[0;36m_parallel_build_trees\u001b[0;34m(tree, forest, X, y, sample_weight, tree_idx, n_trees, verbose, class_weight, n_samples_bootstrap)\u001b[0m\n\u001b[1;32m    163\u001b[0m             \u001b[0mcurr_sample_weight\u001b[0m \u001b[0;34m*=\u001b[0m \u001b[0mcompute_sample_weight\u001b[0m\u001b[0;34m(\u001b[0m\u001b[0;34m'balanced'\u001b[0m\u001b[0;34m,\u001b[0m \u001b[0my\u001b[0m\u001b[0;34m,\u001b[0m \u001b[0mindices\u001b[0m\u001b[0;34m)\u001b[0m\u001b[0;34m\u001b[0m\u001b[0;34m\u001b[0m\u001b[0m\n\u001b[1;32m    164\u001b[0m \u001b[0;34m\u001b[0m\u001b[0m\n\u001b[0;32m--> 165\u001b[0;31m         \u001b[0mtree\u001b[0m\u001b[0;34m.\u001b[0m\u001b[0mfit\u001b[0m\u001b[0;34m(\u001b[0m\u001b[0mX\u001b[0m\u001b[0;34m,\u001b[0m \u001b[0my\u001b[0m\u001b[0;34m,\u001b[0m \u001b[0msample_weight\u001b[0m\u001b[0;34m=\u001b[0m\u001b[0mcurr_sample_weight\u001b[0m\u001b[0;34m,\u001b[0m \u001b[0mcheck_input\u001b[0m\u001b[0;34m=\u001b[0m\u001b[0;32mFalse\u001b[0m\u001b[0;34m)\u001b[0m\u001b[0;34m\u001b[0m\u001b[0;34m\u001b[0m\u001b[0m\n\u001b[0m\u001b[1;32m    166\u001b[0m     \u001b[0;32melse\u001b[0m\u001b[0;34m:\u001b[0m\u001b[0;34m\u001b[0m\u001b[0;34m\u001b[0m\u001b[0m\n\u001b[1;32m    167\u001b[0m         \u001b[0mtree\u001b[0m\u001b[0;34m.\u001b[0m\u001b[0mfit\u001b[0m\u001b[0;34m(\u001b[0m\u001b[0mX\u001b[0m\u001b[0;34m,\u001b[0m \u001b[0my\u001b[0m\u001b[0;34m,\u001b[0m \u001b[0msample_weight\u001b[0m\u001b[0;34m=\u001b[0m\u001b[0msample_weight\u001b[0m\u001b[0;34m,\u001b[0m \u001b[0mcheck_input\u001b[0m\u001b[0;34m=\u001b[0m\u001b[0;32mFalse\u001b[0m\u001b[0;34m)\u001b[0m\u001b[0;34m\u001b[0m\u001b[0;34m\u001b[0m\u001b[0m\n",
            "\u001b[0;32m/usr/local/lib/python3.7/dist-packages/sklearn/tree/_classes.py\u001b[0m in \u001b[0;36mfit\u001b[0;34m(self, X, y, sample_weight, check_input, X_idx_sorted)\u001b[0m\n\u001b[1;32m    875\u001b[0m             \u001b[0msample_weight\u001b[0m\u001b[0;34m=\u001b[0m\u001b[0msample_weight\u001b[0m\u001b[0;34m,\u001b[0m\u001b[0;34m\u001b[0m\u001b[0;34m\u001b[0m\u001b[0m\n\u001b[1;32m    876\u001b[0m             \u001b[0mcheck_input\u001b[0m\u001b[0;34m=\u001b[0m\u001b[0mcheck_input\u001b[0m\u001b[0;34m,\u001b[0m\u001b[0;34m\u001b[0m\u001b[0;34m\u001b[0m\u001b[0m\n\u001b[0;32m--> 877\u001b[0;31m             X_idx_sorted=X_idx_sorted)\n\u001b[0m\u001b[1;32m    878\u001b[0m         \u001b[0;32mreturn\u001b[0m \u001b[0mself\u001b[0m\u001b[0;34m\u001b[0m\u001b[0;34m\u001b[0m\u001b[0m\n\u001b[1;32m    879\u001b[0m \u001b[0;34m\u001b[0m\u001b[0m\n",
            "\u001b[0;32m/usr/local/lib/python3.7/dist-packages/sklearn/tree/_classes.py\u001b[0m in \u001b[0;36mfit\u001b[0;34m(self, X, y, sample_weight, check_input, X_idx_sorted)\u001b[0m\n\u001b[1;32m    141\u001b[0m             X_idx_sorted=None):\n\u001b[1;32m    142\u001b[0m \u001b[0;34m\u001b[0m\u001b[0m\n\u001b[0;32m--> 143\u001b[0;31m         \u001b[0mrandom_state\u001b[0m \u001b[0;34m=\u001b[0m \u001b[0mcheck_random_state\u001b[0m\u001b[0;34m(\u001b[0m\u001b[0mself\u001b[0m\u001b[0;34m.\u001b[0m\u001b[0mrandom_state\u001b[0m\u001b[0;34m)\u001b[0m\u001b[0;34m\u001b[0m\u001b[0;34m\u001b[0m\u001b[0m\n\u001b[0m\u001b[1;32m    144\u001b[0m \u001b[0;34m\u001b[0m\u001b[0m\n\u001b[1;32m    145\u001b[0m         \u001b[0;32mif\u001b[0m \u001b[0mself\u001b[0m\u001b[0;34m.\u001b[0m\u001b[0mccp_alpha\u001b[0m \u001b[0;34m<\u001b[0m \u001b[0;36m0.0\u001b[0m\u001b[0;34m:\u001b[0m\u001b[0;34m\u001b[0m\u001b[0;34m\u001b[0m\u001b[0m\n",
            "\u001b[0;32m/usr/local/lib/python3.7/dist-packages/sklearn/utils/validation.py\u001b[0m in \u001b[0;36mcheck_random_state\u001b[0;34m(seed)\u001b[0m\n\u001b[1;32m    812\u001b[0m         \u001b[0;32mreturn\u001b[0m \u001b[0mnp\u001b[0m\u001b[0;34m.\u001b[0m\u001b[0mrandom\u001b[0m\u001b[0;34m.\u001b[0m\u001b[0mmtrand\u001b[0m\u001b[0;34m.\u001b[0m\u001b[0m_rand\u001b[0m\u001b[0;34m\u001b[0m\u001b[0;34m\u001b[0m\u001b[0m\n\u001b[1;32m    813\u001b[0m     \u001b[0;32mif\u001b[0m \u001b[0misinstance\u001b[0m\u001b[0;34m(\u001b[0m\u001b[0mseed\u001b[0m\u001b[0;34m,\u001b[0m \u001b[0mnumbers\u001b[0m\u001b[0;34m.\u001b[0m\u001b[0mIntegral\u001b[0m\u001b[0;34m)\u001b[0m\u001b[0;34m:\u001b[0m\u001b[0;34m\u001b[0m\u001b[0;34m\u001b[0m\u001b[0m\n\u001b[0;32m--> 814\u001b[0;31m         \u001b[0;32mreturn\u001b[0m \u001b[0mnp\u001b[0m\u001b[0;34m.\u001b[0m\u001b[0mrandom\u001b[0m\u001b[0;34m.\u001b[0m\u001b[0mRandomState\u001b[0m\u001b[0;34m(\u001b[0m\u001b[0mseed\u001b[0m\u001b[0;34m)\u001b[0m\u001b[0;34m\u001b[0m\u001b[0;34m\u001b[0m\u001b[0m\n\u001b[0m\u001b[1;32m    815\u001b[0m     \u001b[0;32mif\u001b[0m \u001b[0misinstance\u001b[0m\u001b[0;34m(\u001b[0m\u001b[0mseed\u001b[0m\u001b[0;34m,\u001b[0m \u001b[0mnp\u001b[0m\u001b[0;34m.\u001b[0m\u001b[0mrandom\u001b[0m\u001b[0;34m.\u001b[0m\u001b[0mRandomState\u001b[0m\u001b[0;34m)\u001b[0m\u001b[0;34m:\u001b[0m\u001b[0;34m\u001b[0m\u001b[0;34m\u001b[0m\u001b[0m\n\u001b[1;32m    816\u001b[0m         \u001b[0;32mreturn\u001b[0m \u001b[0mseed\u001b[0m\u001b[0;34m\u001b[0m\u001b[0;34m\u001b[0m\u001b[0m\n",
            "\u001b[0;32mmtrand.pyx\u001b[0m in \u001b[0;36mnumpy.random.mtrand.RandomState.__init__\u001b[0;34m()\u001b[0m\n",
            "\u001b[0;32m_mt19937.pyx\u001b[0m in \u001b[0;36mnumpy.random._mt19937.MT19937.__init__\u001b[0;34m()\u001b[0m\n",
            "\u001b[0;32mbit_generator.pyx\u001b[0m in \u001b[0;36mnumpy.random.bit_generator.BitGenerator.__init__\u001b[0;34m()\u001b[0m\n",
            "\u001b[0;32mbit_generator.pyx\u001b[0m in \u001b[0;36mnumpy.random.bit_generator.SeedSequence.__init__\u001b[0;34m()\u001b[0m\n",
            "\u001b[0;32m/usr/lib/python3.7/random.py\u001b[0m in \u001b[0;36mgetrandbits\u001b[0;34m(self, k)\u001b[0m\n\u001b[1;32m    686\u001b[0m             \u001b[0;32mraise\u001b[0m \u001b[0mTypeError\u001b[0m\u001b[0;34m(\u001b[0m\u001b[0;34m'number of bits should be an integer'\u001b[0m\u001b[0;34m)\u001b[0m\u001b[0;34m\u001b[0m\u001b[0;34m\u001b[0m\u001b[0m\n\u001b[1;32m    687\u001b[0m         \u001b[0mnumbytes\u001b[0m \u001b[0;34m=\u001b[0m \u001b[0;34m(\u001b[0m\u001b[0mk\u001b[0m \u001b[0;34m+\u001b[0m \u001b[0;36m7\u001b[0m\u001b[0;34m)\u001b[0m \u001b[0;34m//\u001b[0m \u001b[0;36m8\u001b[0m                       \u001b[0;31m# bits / 8 and rounded up\u001b[0m\u001b[0;34m\u001b[0m\u001b[0;34m\u001b[0m\u001b[0m\n\u001b[0;32m--> 688\u001b[0;31m         \u001b[0mx\u001b[0m \u001b[0;34m=\u001b[0m \u001b[0mint\u001b[0m\u001b[0;34m.\u001b[0m\u001b[0mfrom_bytes\u001b[0m\u001b[0;34m(\u001b[0m\u001b[0m_urandom\u001b[0m\u001b[0;34m(\u001b[0m\u001b[0mnumbytes\u001b[0m\u001b[0;34m)\u001b[0m\u001b[0;34m,\u001b[0m \u001b[0;34m'big'\u001b[0m\u001b[0;34m)\u001b[0m\u001b[0;34m\u001b[0m\u001b[0;34m\u001b[0m\u001b[0m\n\u001b[0m\u001b[1;32m    689\u001b[0m         \u001b[0;32mreturn\u001b[0m \u001b[0mx\u001b[0m \u001b[0;34m>>\u001b[0m \u001b[0;34m(\u001b[0m\u001b[0mnumbytes\u001b[0m \u001b[0;34m*\u001b[0m \u001b[0;36m8\u001b[0m \u001b[0;34m-\u001b[0m \u001b[0mk\u001b[0m\u001b[0;34m)\u001b[0m                \u001b[0;31m# trim excess bits\u001b[0m\u001b[0;34m\u001b[0m\u001b[0;34m\u001b[0m\u001b[0m\n\u001b[1;32m    690\u001b[0m \u001b[0;34m\u001b[0m\u001b[0m\n",
            "\u001b[0;31mKeyboardInterrupt\u001b[0m: "
          ]
        }
      ],
      "source": [
        "model = RandomForestClassifier(n_estimators=10000)\n",
        "\n",
        "model.fit(x_train, y_train)\n",
        "\n",
        "y_pred_train = model.predict(x_train)\n",
        "y_pred_dev = model.predict(x_dev)\n",
        "\n",
        "score(y_train, y_pred_train, y_dev, y_pred_dev)"
      ]
    },
    {
      "cell_type": "markdown",
      "metadata": {
        "id": "DG-Jej0G7o8Q"
      },
      "source": [
        "## SVM"
      ]
    },
    {
      "cell_type": "code",
      "execution_count": 115,
      "metadata": {
        "colab": {
          "base_uri": "https://localhost:8080/",
          "height": 369
        },
        "id": "X_BQUodV7o8Q",
        "outputId": "1714dafe-0c75-43da-ce40-89694b749fc8"
      },
      "outputs": [
        {
          "ename": "KeyboardInterrupt",
          "evalue": "ignored",
          "output_type": "error",
          "traceback": [
            "\u001b[0;31m---------------------------------------------------------------------------\u001b[0m",
            "\u001b[0;31mKeyboardInterrupt\u001b[0m                         Traceback (most recent call last)",
            "\u001b[0;32m<ipython-input-115-8ec39764d99a>\u001b[0m in \u001b[0;36m<module>\u001b[0;34m()\u001b[0m\n\u001b[1;32m      2\u001b[0m \u001b[0mpipe\u001b[0m \u001b[0;34m=\u001b[0m \u001b[0mPipeline\u001b[0m\u001b[0;34m(\u001b[0m\u001b[0;34m[\u001b[0m\u001b[0;34m(\u001b[0m\u001b[0;34m\"Scaler\"\u001b[0m\u001b[0;34m,\u001b[0m \u001b[0mStandardScaler\u001b[0m\u001b[0;34m(\u001b[0m\u001b[0;34m)\u001b[0m\u001b[0;34m)\u001b[0m\u001b[0;34m,\u001b[0m     \u001b[0;34m(\u001b[0m\u001b[0;34m\"SVM\"\u001b[0m\u001b[0;34m,\u001b[0m \u001b[0mmodel\u001b[0m\u001b[0;34m)\u001b[0m\u001b[0;34m]\u001b[0m\u001b[0;34m)\u001b[0m\u001b[0;34m\u001b[0m\u001b[0;34m\u001b[0m\u001b[0m\n\u001b[1;32m      3\u001b[0m \u001b[0;34m\u001b[0m\u001b[0m\n\u001b[0;32m----> 4\u001b[0;31m \u001b[0mpipe\u001b[0m\u001b[0;34m.\u001b[0m\u001b[0mfit\u001b[0m\u001b[0;34m(\u001b[0m\u001b[0mx_train\u001b[0m\u001b[0;34m,\u001b[0m \u001b[0my_train\u001b[0m\u001b[0;34m)\u001b[0m\u001b[0;34m\u001b[0m\u001b[0;34m\u001b[0m\u001b[0m\n\u001b[0m\u001b[1;32m      5\u001b[0m \u001b[0;34m\u001b[0m\u001b[0m\n\u001b[1;32m      6\u001b[0m \u001b[0my_pred_train\u001b[0m \u001b[0;34m=\u001b[0m \u001b[0mpipe\u001b[0m\u001b[0;34m.\u001b[0m\u001b[0mpredict\u001b[0m\u001b[0;34m(\u001b[0m\u001b[0mx_train\u001b[0m\u001b[0;34m)\u001b[0m\u001b[0;34m\u001b[0m\u001b[0;34m\u001b[0m\u001b[0m\n",
            "\u001b[0;32m/usr/local/lib/python3.7/dist-packages/sklearn/pipeline.py\u001b[0m in \u001b[0;36mfit\u001b[0;34m(self, X, y, **fit_params)\u001b[0m\n\u001b[1;32m    352\u001b[0m                                  self._log_message(len(self.steps) - 1)):\n\u001b[1;32m    353\u001b[0m             \u001b[0;32mif\u001b[0m \u001b[0mself\u001b[0m\u001b[0;34m.\u001b[0m\u001b[0m_final_estimator\u001b[0m \u001b[0;34m!=\u001b[0m \u001b[0;34m'passthrough'\u001b[0m\u001b[0;34m:\u001b[0m\u001b[0;34m\u001b[0m\u001b[0;34m\u001b[0m\u001b[0m\n\u001b[0;32m--> 354\u001b[0;31m                 \u001b[0mself\u001b[0m\u001b[0;34m.\u001b[0m\u001b[0m_final_estimator\u001b[0m\u001b[0;34m.\u001b[0m\u001b[0mfit\u001b[0m\u001b[0;34m(\u001b[0m\u001b[0mXt\u001b[0m\u001b[0;34m,\u001b[0m \u001b[0my\u001b[0m\u001b[0;34m,\u001b[0m \u001b[0;34m**\u001b[0m\u001b[0mfit_params\u001b[0m\u001b[0;34m)\u001b[0m\u001b[0;34m\u001b[0m\u001b[0;34m\u001b[0m\u001b[0m\n\u001b[0m\u001b[1;32m    355\u001b[0m         \u001b[0;32mreturn\u001b[0m \u001b[0mself\u001b[0m\u001b[0;34m\u001b[0m\u001b[0;34m\u001b[0m\u001b[0m\n\u001b[1;32m    356\u001b[0m \u001b[0;34m\u001b[0m\u001b[0m\n",
            "\u001b[0;32m/usr/local/lib/python3.7/dist-packages/sklearn/svm/_base.py\u001b[0m in \u001b[0;36mfit\u001b[0;34m(self, X, y, sample_weight)\u001b[0m\n\u001b[1;32m    197\u001b[0m \u001b[0;34m\u001b[0m\u001b[0m\n\u001b[1;32m    198\u001b[0m         \u001b[0mseed\u001b[0m \u001b[0;34m=\u001b[0m \u001b[0mrnd\u001b[0m\u001b[0;34m.\u001b[0m\u001b[0mrandint\u001b[0m\u001b[0;34m(\u001b[0m\u001b[0mnp\u001b[0m\u001b[0;34m.\u001b[0m\u001b[0miinfo\u001b[0m\u001b[0;34m(\u001b[0m\u001b[0;34m'i'\u001b[0m\u001b[0;34m)\u001b[0m\u001b[0;34m.\u001b[0m\u001b[0mmax\u001b[0m\u001b[0;34m)\u001b[0m\u001b[0;34m\u001b[0m\u001b[0;34m\u001b[0m\u001b[0m\n\u001b[0;32m--> 199\u001b[0;31m         \u001b[0mfit\u001b[0m\u001b[0;34m(\u001b[0m\u001b[0mX\u001b[0m\u001b[0;34m,\u001b[0m \u001b[0my\u001b[0m\u001b[0;34m,\u001b[0m \u001b[0msample_weight\u001b[0m\u001b[0;34m,\u001b[0m \u001b[0msolver_type\u001b[0m\u001b[0;34m,\u001b[0m \u001b[0mkernel\u001b[0m\u001b[0;34m,\u001b[0m \u001b[0mrandom_seed\u001b[0m\u001b[0;34m=\u001b[0m\u001b[0mseed\u001b[0m\u001b[0;34m)\u001b[0m\u001b[0;34m\u001b[0m\u001b[0;34m\u001b[0m\u001b[0m\n\u001b[0m\u001b[1;32m    200\u001b[0m         \u001b[0;31m# see comment on the other call to np.iinfo in this file\u001b[0m\u001b[0;34m\u001b[0m\u001b[0;34m\u001b[0m\u001b[0;34m\u001b[0m\u001b[0m\n\u001b[1;32m    201\u001b[0m \u001b[0;34m\u001b[0m\u001b[0m\n",
            "\u001b[0;32m/usr/local/lib/python3.7/dist-packages/sklearn/svm/_base.py\u001b[0m in \u001b[0;36m_dense_fit\u001b[0;34m(self, X, y, sample_weight, solver_type, kernel, random_seed)\u001b[0m\n\u001b[1;32m    256\u001b[0m                 \u001b[0mcache_size\u001b[0m\u001b[0;34m=\u001b[0m\u001b[0mself\u001b[0m\u001b[0;34m.\u001b[0m\u001b[0mcache_size\u001b[0m\u001b[0;34m,\u001b[0m \u001b[0mcoef0\u001b[0m\u001b[0;34m=\u001b[0m\u001b[0mself\u001b[0m\u001b[0;34m.\u001b[0m\u001b[0mcoef0\u001b[0m\u001b[0;34m,\u001b[0m\u001b[0;34m\u001b[0m\u001b[0;34m\u001b[0m\u001b[0m\n\u001b[1;32m    257\u001b[0m                 \u001b[0mgamma\u001b[0m\u001b[0;34m=\u001b[0m\u001b[0mself\u001b[0m\u001b[0;34m.\u001b[0m\u001b[0m_gamma\u001b[0m\u001b[0;34m,\u001b[0m \u001b[0mepsilon\u001b[0m\u001b[0;34m=\u001b[0m\u001b[0mself\u001b[0m\u001b[0;34m.\u001b[0m\u001b[0mepsilon\u001b[0m\u001b[0;34m,\u001b[0m\u001b[0;34m\u001b[0m\u001b[0;34m\u001b[0m\u001b[0m\n\u001b[0;32m--> 258\u001b[0;31m                 max_iter=self.max_iter, random_seed=random_seed)\n\u001b[0m\u001b[1;32m    259\u001b[0m \u001b[0;34m\u001b[0m\u001b[0m\n\u001b[1;32m    260\u001b[0m         \u001b[0mself\u001b[0m\u001b[0;34m.\u001b[0m\u001b[0m_warn_from_fit_status\u001b[0m\u001b[0;34m(\u001b[0m\u001b[0;34m)\u001b[0m\u001b[0;34m\u001b[0m\u001b[0;34m\u001b[0m\u001b[0m\n",
            "\u001b[0;31mKeyboardInterrupt\u001b[0m: "
          ]
        }
      ],
      "source": [
        "model = SVC(C=100000, kernel='rbf', gamma=0.01)\n",
        "pipe = Pipeline([(\"Scaler\", StandardScaler()), \\\n",
        "    (\"SVM\", model)])\n",
        "\n",
        "pipe.fit(x_train, y_train)\n",
        "\n",
        "y_pred_train = pipe.predict(x_train)\n",
        "y_pred_dev = pipe.predict(x_dev)\n",
        "\n",
        "score(y_train, y_pred_train, y_dev, y_pred_dev)"
      ]
    },
    {
      "cell_type": "markdown",
      "metadata": {
        "id": "pJOZhpiF7o8Q"
      },
      "source": [
        "## Gradient Boosting"
      ]
    },
    {
      "cell_type": "code",
      "execution_count": 118,
      "metadata": {
        "colab": {
          "base_uri": "https://localhost:8080/",
          "height": 608
        },
        "id": "JDnK8e_W7o8Q",
        "outputId": "f8c4a467-b82f-4eab-cb30-b4910b740ee3"
      },
      "outputs": [
        {
          "name": "stdout",
          "output_type": "stream",
          "text": [
            "For Training dataset : \n",
            "Accuracy :  0.7835820895522388\n"
          ]
        },
        {
          "data": {
            "image/png": "[encoded data removed]",
            "text/plain": [
              "<Figure size 432x288 with 2 Axes>"
            ]
          },
          "metadata": {
            "needs_background": "light"
          },
          "output_type": "display_data"
        },
        {
          "name": "stdout",
          "output_type": "stream",
          "text": [
            "For Dev set :\n",
            "Accuracy :  0.6352357320099256\n"
          ]
        },
        {
          "data": {
            "image/png": "[encoded data removed]",
            "text/plain": [
              "<Figure size 432x288 with 2 Axes>"
            ]
          },
          "metadata": {
            "needs_background": "light"
          },
          "output_type": "display_data"
        }
      ],
      "source": [
        "model = GradientBoostingClassifier(n_estimators=300, learning_rate=0.03)\n",
        "\n",
        "model.fit(x_train, y_train)\n",
        "\n",
        "y_pred_train = model.predict(x_train)\n",
        "y_pred_dev = model.predict(x_dev)\n",
        "\n",
        "score(y_train, y_pred_train, y_dev, y_pred_dev)"
      ]
    },
    {
      "cell_type": "markdown",
      "metadata": {
        "id": "PEUiPxx_7o8R"
      },
      "source": [
        "# Model with all value (+ the missing ones)"
      ]
    },
    {
      "cell_type": "markdown",
      "metadata": {
        "id": "yPAVrOHL7o8R"
      },
      "source": [
        "## Build datasets"
      ]
    },
    {
      "cell_type": "code",
      "execution_count": null,
      "metadata": {
        "id": "5_q2ClPw7o8R",
        "outputId": "2e201b00-6d40-4f7f-f044-2ae27dc53fa2"
      },
      "outputs": [
        {
          "data": {
            "text/html": [
              "<div>\n",
              "<style scoped>\n",
              "    .dataframe tbody tr th:only-of-type {\n",
              "        vertical-align: middle;\n",
              "    }\n",
              "\n",
              "    .dataframe tbody tr th {\n",
              "        vertical-align: top;\n",
              "    }\n",
              "\n",
              "    .dataframe thead th {\n",
              "        text-align: right;\n",
              "    }\n",
              "</style>\n",
              "<table border=\"1\" class=\"dataframe\">\n",
              "  <thead>\n",
              "    <tr style=\"text-align: right;\">\n",
              "      <th></th>\n",
              "      <th>ph</th>\n",
              "      <th>Hardness</th>\n",
              "      <th>Solids</th>\n",
              "      <th>Chloramines</th>\n",
              "      <th>Sulfate</th>\n",
              "      <th>Conductivity</th>\n",
              "      <th>Organic_carbon</th>\n",
              "      <th>Trihalomethanes</th>\n",
              "      <th>Turbidity</th>\n",
              "    </tr>\n",
              "  </thead>\n",
              "  <tbody>\n",
              "    <tr>\n",
              "      <th>count</th>\n",
              "      <td>3276.000000</td>\n",
              "      <td>3276.000000</td>\n",
              "      <td>3276.000000</td>\n",
              "      <td>3276.000000</td>\n",
              "      <td>3276.000000</td>\n",
              "      <td>3276.000000</td>\n",
              "      <td>3276.000000</td>\n",
              "      <td>3276.000000</td>\n",
              "      <td>3276.000000</td>\n",
              "    </tr>\n",
              "    <tr>\n",
              "      <th>mean</th>\n",
              "      <td>5.869662</td>\n",
              "      <td>196.369496</td>\n",
              "      <td>22014.092526</td>\n",
              "      <td>7.122277</td>\n",
              "      <td>253.965068</td>\n",
              "      <td>426.205111</td>\n",
              "      <td>14.284970</td>\n",
              "      <td>63.063509</td>\n",
              "      <td>3.966786</td>\n",
              "    </tr>\n",
              "    <tr>\n",
              "      <th>std</th>\n",
              "      <td>3.237805</td>\n",
              "      <td>32.879761</td>\n",
              "      <td>8768.570828</td>\n",
              "      <td>1.583085</td>\n",
              "      <td>147.178275</td>\n",
              "      <td>80.824064</td>\n",
              "      <td>3.308162</td>\n",
              "      <td>21.500330</td>\n",
              "      <td>0.780382</td>\n",
              "    </tr>\n",
              "    <tr>\n",
              "      <th>min</th>\n",
              "      <td>-1.000000</td>\n",
              "      <td>47.432000</td>\n",
              "      <td>320.942611</td>\n",
              "      <td>0.352000</td>\n",
              "      <td>-1.000000</td>\n",
              "      <td>181.483754</td>\n",
              "      <td>2.200000</td>\n",
              "      <td>-1.000000</td>\n",
              "      <td>1.450000</td>\n",
              "    </tr>\n",
              "    <tr>\n",
              "      <th>25%</th>\n",
              "      <td>5.283146</td>\n",
              "      <td>176.850538</td>\n",
              "      <td>15666.690300</td>\n",
              "      <td>6.127421</td>\n",
              "      <td>240.722848</td>\n",
              "      <td>365.734414</td>\n",
              "      <td>12.065801</td>\n",
              "      <td>53.793688</td>\n",
              "      <td>3.439711</td>\n",
              "    </tr>\n",
              "    <tr>\n",
              "      <th>50%</th>\n",
              "      <td>6.735249</td>\n",
              "      <td>196.967627</td>\n",
              "      <td>20927.833605</td>\n",
              "      <td>7.130299</td>\n",
              "      <td>318.660382</td>\n",
              "      <td>421.884968</td>\n",
              "      <td>14.218338</td>\n",
              "      <td>65.445962</td>\n",
              "      <td>3.955028</td>\n",
              "    </tr>\n",
              "    <tr>\n",
              "      <th>75%</th>\n",
              "      <td>7.870050</td>\n",
              "      <td>216.667456</td>\n",
              "      <td>27332.762125</td>\n",
              "      <td>8.114887</td>\n",
              "      <td>350.385756</td>\n",
              "      <td>481.792305</td>\n",
              "      <td>16.557652</td>\n",
              "      <td>76.666609</td>\n",
              "      <td>4.500320</td>\n",
              "    </tr>\n",
              "    <tr>\n",
              "      <th>max</th>\n",
              "      <td>14.000000</td>\n",
              "      <td>323.124000</td>\n",
              "      <td>61227.196010</td>\n",
              "      <td>13.127000</td>\n",
              "      <td>481.030642</td>\n",
              "      <td>753.342620</td>\n",
              "      <td>28.300000</td>\n",
              "      <td>124.000000</td>\n",
              "      <td>6.739000</td>\n",
              "    </tr>\n",
              "  </tbody>\n",
              "</table>\n",
              "</div>"
            ],
            "text/plain": [
              "                ph     Hardness        Solids  Chloramines      Sulfate  \\\n",
              "count  3276.000000  3276.000000   3276.000000  3276.000000  3276.000000   \n",
              "mean      5.869662   196.369496  22014.092526     7.122277   253.965068   \n",
              "std       3.237805    32.879761   8768.570828     1.583085   147.178275   \n",
              "min      -1.000000    47.432000    320.942611     0.352000    -1.000000   \n",
              "25%       5.283146   176.850538  15666.690300     6.127421   240.722848   \n",
              "50%       6.735249   196.967627  20927.833605     7.130299   318.660382   \n",
              "75%       7.870050   216.667456  27332.762125     8.114887   350.385756   \n",
              "max      14.000000   323.124000  61227.196010    13.127000   481.030642   \n",
              "\n",
              "       Conductivity  Organic_carbon  Trihalomethanes    Turbidity  \n",
              "count   3276.000000     3276.000000      3276.000000  3276.000000  \n",
              "mean     426.205111       14.284970        63.063509     3.966786  \n",
              "std       80.824064        3.308162        21.500330     0.780382  \n",
              "min      181.483754        2.200000        -1.000000     1.450000  \n",
              "25%      365.734414       12.065801        53.793688     3.439711  \n",
              "50%      421.884968       14.218338        65.445962     3.955028  \n",
              "75%      481.792305       16.557652        76.666609     4.500320  \n",
              "max      753.342620       28.300000       124.000000     6.739000  "
            ]
          },
          "execution_count": 289,
          "metadata": {},
          "output_type": "execute_result"
        }
      ],
      "source": [
        "training_columns = ['ph', 'Hardness', 'Solids', 'Chloramines', 'Sulfate', 'Conductivity','Organic_carbon', 'Trihalomethanes', 'Turbidity']\n",
        "predict_column = ['Potability']\n",
        "data_treated = data.fillna(-1)\n",
        "\n",
        "X = data_treated[training_columns]\n",
        "Y = data_treated[predict_column]\n",
        "X.describe()"
      ]
    },
    {
      "cell_type": "code",
      "execution_count": null,
      "metadata": {
        "id": "qiT1ZfHu7o8R"
      },
      "outputs": [],
      "source": [
        "x_train, x_dev, y_train, y_dev = train_test_split(X, Y, test_size=0.2)"
      ]
    },
    {
      "cell_type": "markdown",
      "metadata": {
        "id": "0KogD_ha7o8R"
      },
      "source": [
        "## Random Forest"
      ]
    },
    {
      "cell_type": "code",
      "execution_count": null,
      "metadata": {
        "id": "pUSH-qdY7o8R",
        "outputId": "e7206732-fd5c-46d5-8866-de13fd20e525"
      },
      "outputs": [
        {
          "name": "stderr",
          "output_type": "stream",
          "text": [
            "C:\\Users\\Mustapha\\AppData\\Local\\Temp/ipykernel_19804/2684541895.py:3: DataConversionWarning: A column-vector y was passed when a 1d array was expected. Please change the shape of y to (n_samples,), for example using ravel().\n",
            "  model.fit(x_train, y_train)\n"
          ]
        },
        {
          "name": "stdout",
          "output_type": "stream",
          "text": [
            "For Training dataset : \n",
            "Accuracy :  1.0\n"
          ]
        },
        {
          "data": {
            "image/png": "[encoded data removed]",
            "text/plain": [
              "<Figure size 432x288 with 2 Axes>"
            ]
          },
          "metadata": {
            "needs_background": "light"
          },
          "output_type": "display_data"
        },
        {
          "name": "stdout",
          "output_type": "stream",
          "text": [
            "For Dev set :\n",
            "Accuracy :  0.6661585365853658\n"
          ]
        },
        {
          "data": {
            "image/png": "[encoded data removed]",
            "text/plain": [
              "<Figure size 432x288 with 2 Axes>"
            ]
          },
          "metadata": {
            "needs_background": "light"
          },
          "output_type": "display_data"
        }
      ],
      "source": [
        "model = RandomForestClassifier(n_estimators=300)\n",
        "\n",
        "model.fit(x_train, y_train)\n",
        "\n",
        "y_pred_train = model.predict(x_train)\n",
        "y_pred_dev = model.predict(x_dev)\n",
        "\n",
        "score(y_train, y_pred_train, y_dev, y_pred_dev)"
      ]
    },
    {
      "cell_type": "markdown",
      "metadata": {
        "id": "lS3kV_unzKLj"
      },
      "source": [
        "# With Data Processing\n"
      ]
    },
    {
      "cell_type": "markdown",
      "metadata": {
        "id": "ym_MELh6l9O7"
      },
      "source": [
        "### Imputation"
      ]
    },
    {
      "cell_type": "markdown",
      "metadata": {
        "id": "OkAgybHpgu2e"
      },
      "source": [
        "In this section, we would love to clean the data. In order to make things simple, we are going to Impute `NaN` values from the begining."
      ]
    },
    {
      "cell_type": "code",
      "execution_count": 51,
      "metadata": {
        "id": "E4pTS8wehBxg"
      },
      "outputs": [],
      "source": [
        "data_proc = data.copy() # The processed data\n",
        "data_proc = pd.DataFrame(SimpleImputer().fit_transform(data_proc), columns=data.columns)"
      ]
    },
    {
      "cell_type": "markdown",
      "metadata": {
        "id": "fcZzoU9fmF3a"
      },
      "source": [
        "### Data correction"
      ]
    },
    {
      "cell_type": "markdown",
      "metadata": {
        "id": "S1vSc-6r4BDb"
      },
      "source": [
        "Lets first use some limits that makes water systematically undrinkable"
      ]
    },
    {
      "cell_type": "markdown",
      "metadata": {
        "id": "qPbEM5gGj2mu"
      },
      "source": [
        "But one thing to notice is that this dataset is only generated data not real data. Some features are like `Solids` are not realistic. So we won't apply limits on them since this will eliminate all our data.  "
      ]
    },
    {
      "cell_type": "code",
      "execution_count": 52,
      "metadata": {
        "id": "hcRhbihEzay2"
      },
      "outputs": [],
      "source": [
        "limits = { #Containnig (min, max) for potability\n",
        "    \"ph\" : (6.5, 8.5), #WHO Standard https://www.who.int/water_sanitation_health/dwq/chemicals/ph_revised_2007_clean_version.pdf\n",
        "    # \"Solids\" : (50, 1000), #TDS Limits https://www.kent.co.in/blog/what-are-total-dissolved-solids-tds-how-to-reduce-them/\n",
        "    \"Trihalomethanes\" : (0, 80), #EPA Standards https://www.epa.gov/sites/default/files/2016-06/documents/npwdr_complete_table.pdf\n",
        "    \"Turbidity\" : (0,5) #WHO Standard https://www.lenntech.com/turbidity.htm#:~:text=The%20WHO%20(World%20Health%20Organization,ideally%20be%20below%201%20NTU.\n",
        "}"
      ]
    },
    {
      "cell_type": "markdown",
      "metadata": {
        "id": "uyP5pCtL8a91"
      },
      "source": [
        "We are going to give weights to the instances of the dataset. The following rules will be applied :\n",
        "\\begin{equation}\n",
        "y_i = 1 \\quad X_i \\notin limits_{potability} \\implies y_i \\leftarrow 0 \\quad w_i \\leftarrow 0.5 \n",
        "\\end{equation}\n",
        "Meaning : We label any potable sample of water out of the range `limits` to be non potable water, and we also decrease its weight.\n",
        "The decrease of the weigth helps to give more importance to the original data.\n",
        "\n",
        "First lets build the weights vector :"
      ]
    },
    {
      "cell_type": "code",
      "execution_count": 53,
      "metadata": {
        "colab": {
          "base_uri": "https://localhost:8080/",
          "height": 110
        },
        "id": "MGFfQ6ibzTI7",
        "outputId": "85df80fa-567c-4d56-967e-f8c5c5843d04"
      },
      "outputs": [
        {
          "data": {
            "text/html": [
              "<div>\n",
              "<style scoped>\n",
              "    .dataframe tbody tr th:only-of-type {\n",
              "        vertical-align: middle;\n",
              "    }\n",
              "\n",
              "    .dataframe tbody tr th {\n",
              "        vertical-align: top;\n",
              "    }\n",
              "\n",
              "    .dataframe thead th {\n",
              "        text-align: right;\n",
              "    }\n",
              "</style>\n",
              "<table border=\"1\" class=\"dataframe\">\n",
              "  <thead>\n",
              "    <tr style=\"text-align: right;\">\n",
              "      <th></th>\n",
              "      <th>Weights</th>\n",
              "      <th>ph</th>\n",
              "      <th>Hardness</th>\n",
              "      <th>Solids</th>\n",
              "      <th>Chloramines</th>\n",
              "      <th>Sulfate</th>\n",
              "      <th>Conductivity</th>\n",
              "      <th>Organic_carbon</th>\n",
              "      <th>Trihalomethanes</th>\n",
              "      <th>Turbidity</th>\n",
              "      <th>Potability</th>\n",
              "    </tr>\n",
              "  </thead>\n",
              "  <tbody>\n",
              "    <tr>\n",
              "      <th>0</th>\n",
              "      <td>1.0</td>\n",
              "      <td>7.080795</td>\n",
              "      <td>204.890456</td>\n",
              "      <td>20791.31898</td>\n",
              "      <td>7.300212</td>\n",
              "      <td>368.516441</td>\n",
              "      <td>564.308654</td>\n",
              "      <td>10.379783</td>\n",
              "      <td>86.990970</td>\n",
              "      <td>2.963135</td>\n",
              "      <td>0.0</td>\n",
              "    </tr>\n",
              "    <tr>\n",
              "      <th>1</th>\n",
              "      <td>1.0</td>\n",
              "      <td>3.716080</td>\n",
              "      <td>129.422921</td>\n",
              "      <td>18630.05786</td>\n",
              "      <td>6.635246</td>\n",
              "      <td>333.775777</td>\n",
              "      <td>592.885359</td>\n",
              "      <td>15.180013</td>\n",
              "      <td>56.329076</td>\n",
              "      <td>4.500656</td>\n",
              "      <td>0.0</td>\n",
              "    </tr>\n",
              "  </tbody>\n",
              "</table>\n",
              "</div>"
            ],
            "text/plain": [
              "   Weights        ph    Hardness       Solids  Chloramines     Sulfate  \\\n",
              "0      1.0  7.080795  204.890456  20791.31898     7.300212  368.516441   \n",
              "1      1.0  3.716080  129.422921  18630.05786     6.635246  333.775777   \n",
              "\n",
              "   Conductivity  Organic_carbon  Trihalomethanes  Turbidity  Potability  \n",
              "0    564.308654       10.379783        86.990970   2.963135         0.0  \n",
              "1    592.885359       15.180013        56.329076   4.500656         0.0  "
            ]
          },
          "execution_count": 53,
          "metadata": {},
          "output_type": "execute_result"
        }
      ],
      "source": [
        "weights = pd.DataFrame(np.ones(len(data)), columns=[\"Weights\"])\n",
        "data_proc.insert(0, \"Weights\", weights)\n",
        "data_proc.head(2)"
      ]
    },
    {
      "cell_type": "markdown",
      "metadata": {
        "id": "GM3OkaVhdEkD"
      },
      "source": [
        "Now lets process the data, using the rule above :"
      ]
    },
    {
      "cell_type": "code",
      "execution_count": 54,
      "metadata": {
        "colab": {
          "base_uri": "https://localhost:8080/",
          "height": 233
        },
        "id": "QjRRWmDDa6lZ",
        "outputId": "d539bab0-c41a-4040-d5dc-412474c05433"
      },
      "outputs": [
        {
          "data": {
            "text/html": [
              "<div>\n",
              "<style scoped>\n",
              "    .dataframe tbody tr th:only-of-type {\n",
              "        vertical-align: middle;\n",
              "    }\n",
              "\n",
              "    .dataframe tbody tr th {\n",
              "        vertical-align: top;\n",
              "    }\n",
              "\n",
              "    .dataframe thead th {\n",
              "        text-align: right;\n",
              "    }\n",
              "</style>\n",
              "<table border=\"1\" class=\"dataframe\">\n",
              "  <thead>\n",
              "    <tr style=\"text-align: right;\">\n",
              "      <th></th>\n",
              "      <th>Weights</th>\n",
              "      <th>ph</th>\n",
              "      <th>Hardness</th>\n",
              "      <th>Solids</th>\n",
              "      <th>Chloramines</th>\n",
              "      <th>Sulfate</th>\n",
              "      <th>Conductivity</th>\n",
              "      <th>Organic_carbon</th>\n",
              "      <th>Trihalomethanes</th>\n",
              "      <th>Turbidity</th>\n",
              "      <th>Potability</th>\n",
              "    </tr>\n",
              "  </thead>\n",
              "  <tbody>\n",
              "    <tr>\n",
              "      <th>count</th>\n",
              "      <td>3276.000000</td>\n",
              "      <td>3276.000000</td>\n",
              "      <td>3276.000000</td>\n",
              "      <td>3276.000000</td>\n",
              "      <td>3276.000000</td>\n",
              "      <td>3276.000000</td>\n",
              "      <td>3276.000000</td>\n",
              "      <td>3276.000000</td>\n",
              "      <td>3276.000000</td>\n",
              "      <td>3276.000000</td>\n",
              "      <td>3276.000000</td>\n",
              "    </tr>\n",
              "    <tr>\n",
              "      <th>mean</th>\n",
              "      <td>0.891331</td>\n",
              "      <td>7.080795</td>\n",
              "      <td>196.369496</td>\n",
              "      <td>22014.092526</td>\n",
              "      <td>7.122277</td>\n",
              "      <td>333.775777</td>\n",
              "      <td>426.205111</td>\n",
              "      <td>14.284970</td>\n",
              "      <td>66.396293</td>\n",
              "      <td>3.966786</td>\n",
              "      <td>0.172772</td>\n",
              "    </tr>\n",
              "    <tr>\n",
              "      <th>std</th>\n",
              "      <td>0.206249</td>\n",
              "      <td>1.469956</td>\n",
              "      <td>32.879761</td>\n",
              "      <td>8768.570828</td>\n",
              "      <td>1.583085</td>\n",
              "      <td>36.142612</td>\n",
              "      <td>80.824064</td>\n",
              "      <td>3.308162</td>\n",
              "      <td>15.769881</td>\n",
              "      <td>0.780382</td>\n",
              "      <td>0.378107</td>\n",
              "    </tr>\n",
              "    <tr>\n",
              "      <th>min</th>\n",
              "      <td>0.500000</td>\n",
              "      <td>0.000000</td>\n",
              "      <td>47.432000</td>\n",
              "      <td>320.942611</td>\n",
              "      <td>0.352000</td>\n",
              "      <td>129.000000</td>\n",
              "      <td>181.483754</td>\n",
              "      <td>2.200000</td>\n",
              "      <td>0.738000</td>\n",
              "      <td>1.450000</td>\n",
              "      <td>0.000000</td>\n",
              "    </tr>\n",
              "    <tr>\n",
              "      <th>50%</th>\n",
              "      <td>1.000000</td>\n",
              "      <td>7.080795</td>\n",
              "      <td>196.967627</td>\n",
              "      <td>20927.833605</td>\n",
              "      <td>7.130299</td>\n",
              "      <td>333.775777</td>\n",
              "      <td>421.884968</td>\n",
              "      <td>14.218338</td>\n",
              "      <td>66.396293</td>\n",
              "      <td>3.955028</td>\n",
              "      <td>0.000000</td>\n",
              "    </tr>\n",
              "    <tr>\n",
              "      <th>max</th>\n",
              "      <td>1.000000</td>\n",
              "      <td>14.000000</td>\n",
              "      <td>323.124000</td>\n",
              "      <td>61227.196010</td>\n",
              "      <td>13.127000</td>\n",
              "      <td>481.030642</td>\n",
              "      <td>753.342620</td>\n",
              "      <td>28.300000</td>\n",
              "      <td>124.000000</td>\n",
              "      <td>6.739000</td>\n",
              "      <td>1.000000</td>\n",
              "    </tr>\n",
              "  </tbody>\n",
              "</table>\n",
              "</div>"
            ],
            "text/plain": [
              "           Weights           ph     Hardness        Solids  Chloramines  \\\n",
              "count  3276.000000  3276.000000  3276.000000   3276.000000  3276.000000   \n",
              "mean      0.891331     7.080795   196.369496  22014.092526     7.122277   \n",
              "std       0.206249     1.469956    32.879761   8768.570828     1.583085   \n",
              "min       0.500000     0.000000    47.432000    320.942611     0.352000   \n",
              "50%       1.000000     7.080795   196.967627  20927.833605     7.130299   \n",
              "max       1.000000    14.000000   323.124000  61227.196010    13.127000   \n",
              "\n",
              "           Sulfate  Conductivity  Organic_carbon  Trihalomethanes  \\\n",
              "count  3276.000000   3276.000000     3276.000000      3276.000000   \n",
              "mean    333.775777    426.205111       14.284970        66.396293   \n",
              "std      36.142612     80.824064        3.308162        15.769881   \n",
              "min     129.000000    181.483754        2.200000         0.738000   \n",
              "50%     333.775777    421.884968       14.218338        66.396293   \n",
              "max     481.030642    753.342620       28.300000       124.000000   \n",
              "\n",
              "         Turbidity   Potability  \n",
              "count  3276.000000  3276.000000  \n",
              "mean      3.966786     0.172772  \n",
              "std       0.780382     0.378107  \n",
              "min       1.450000     0.000000  \n",
              "50%       3.955028     0.000000  \n",
              "max       6.739000     1.000000  "
            ]
          },
          "execution_count": 54,
          "metadata": {},
          "output_type": "execute_result"
        }
      ],
      "source": [
        "def row_indexer(dataset):\n",
        "  \"\"\"\n",
        "  This function will return the indexes of row that are labeled as potable but should not be potable (out of the limits)\n",
        "  \"\"\"\n",
        "  index = np.zeros(len(dataset))\n",
        "  for key,(minimum, maximum) in limits.items():\n",
        "    index = index | ( (dataset[key] < minimum) | (dataset[key] > maximum) ) & dataset[\"Potability\"]\n",
        "  return index\n",
        "\n",
        "indexes = row_indexer(data_proc)\n",
        "data_proc.loc[ indexes, \"Weights\"] = 0.5\n",
        "data_proc.loc[ indexes, \"Potability\"] = 0\n",
        "\n",
        "data_proc.describe(percentiles=[])"
      ]
    },
    {
      "cell_type": "markdown",
      "metadata": {
        "id": "eF7d0VHCmdyd"
      },
      "source": [
        "### Data Skewness"
      ]
    },
    {
      "cell_type": "markdown",
      "metadata": {
        "id": "tsKSa9CdmsVZ"
      },
      "source": [
        "Our data is skewed. In the description of `data_proc` we can notice that the mean of `Potability` is only `0.17` this means that we only have $17\\%$ of positive data. If we give this data directly to a model, it will try to predict that everything is non potable, thus getting $83\\%$ accuracy.\n",
        "\n",
        "There is 2 ways to solve this problem : \n",
        "\n",
        "1.   Using a SMOTE :\n",
        "2.   Using a weights : \n",
        "\n",
        "\n",
        "\n"
      ]
    },
    {
      "cell_type": "markdown",
      "metadata": {
        "id": "le7DuXcodYGz"
      },
      "source": [
        "#### Using SMOTE"
      ]
    },
    {
      "cell_type": "markdown",
      "metadata": {
        "id": "cpIo66i5BFKo"
      },
      "source": [
        "When we use SMOTE, it is not important to consider the use of wieghts, since the data will be oversampled."
      ]
    },
    {
      "cell_type": "markdown",
      "metadata": {
        "id": "w8hho0qAwTur"
      },
      "source": [
        "##### Split and rebuild weights"
      ]
    },
    {
      "cell_type": "code",
      "execution_count": 55,
      "metadata": {
        "colab": {
          "base_uri": "https://localhost:8080/"
        },
        "id": "9rL3d9RJjN2D",
        "outputId": "e06280e7-6347-45e3-ced9-404696409bde"
      },
      "outputs": [],
      "source": [
        "training_columns = ['ph', 'Hardness', 'Solids', 'Chloramines', 'Sulfate', 'Conductivity','Organic_carbon', 'Trihalomethanes', 'Turbidity']\n",
        "predict_column = ['Potability']\n",
        "\n",
        "x_train, x_test, y_train, y_test = train_test_split(data_proc[training_columns], data_proc[predict_column], test_size = 0.2)\n",
        "\n",
        "oversampler = SMOTE(k_neighbors=2)\n",
        "x_train, y_train = oversampler.fit_resample(x_train, y_train)"
      ]
    },
    {
      "cell_type": "markdown",
      "metadata": {
        "id": "msIvN4yS7mFg"
      },
      "source": [
        "##### Testing models"
      ]
    },
    {
      "cell_type": "code",
      "execution_count": 56,
      "metadata": {
        "colab": {
          "base_uri": "https://localhost:8080/",
          "height": 612
        },
        "id": "kI5jGoPC7sWa",
        "outputId": "757e4c21-8f27-4093-fb27-78d20dee61d3"
      },
      "outputs": [
        {
          "name": "stdout",
          "output_type": "stream",
          "text": [
            "For Training dataset : \n",
            "Accuracy :  1.0\n"
          ]
        },
        {
          "data": {
            "image/png": "[encoded data removed]",
            "text/plain": [
              "<Figure size 432x288 with 2 Axes>"
            ]
          },
          "metadata": {
            "needs_background": "light"
          },
          "output_type": "display_data"
        },
        {
          "name": "stdout",
          "output_type": "stream",
          "text": [
            "For Dev set :\n",
            "Accuracy :  0.8109756097560976\n"
          ]
        },
        {
          "data": {
            "image/png": "[encoded data removed]",
            "text/plain": [
              "<Figure size 432x288 with 2 Axes>"
            ]
          },
          "metadata": {
            "needs_background": "light"
          },
          "output_type": "display_data"
        }
      ],
      "source": [
        "model = RandomForestClassifier(n_estimators=50)\n",
        "\n",
        "model.fit(x_train, y_train)\n",
        "\n",
        "y_pred_train = model.predict(x_train)\n",
        "y_pred_test = model.predict(x_test)\n",
        "\n",
        "score(y_train, y_pred_train, y_test, y_pred_test)"
      ]
    },
    {
      "cell_type": "code",
      "execution_count": 57,
      "metadata": {
        "colab": {
          "base_uri": "https://localhost:8080/"
        },
        "id": "RYCV-ABSCmGI",
        "outputId": "b1f1d9b1-d9e2-4a4f-d5a3-3561a20d03df"
      },
      "outputs": [
        {
          "name": "stdout",
          "output_type": "stream",
          "text": [
            "+----+----------------+-------------+------------+-----------+----------+----------------+\n",
            "|    | Model          |   Train ACC |   Train F1 |   Dev ACC |   Dev F1 | Used Weights   |\n",
            "|----+----------------+-------------+------------+-----------+----------+----------------|\n",
            "|  0 | SVC            |          87 |         88 |        77 |       54 | ❌             |\n",
            "|  1 | SVC_100000_0.1 |         100 |        100 |        78 |       40 | ❌             |\n",
            "|  2 | KNN            |          85 |         87 |        66 |       44 | ❌             |\n",
            "|  3 | XGB_50         |          86 |         88 |        77 |       58 | ❌             |\n",
            "|  4 | XGB_200        |          92 |         92 |        80 |       57 | ❌             |\n",
            "|  5 | ADA_50         |          86 |         88 |        77 |       55 | ❌             |\n",
            "|  6 | ADA_200        |          89 |         90 |        77 |       54 | ❌             |\n",
            "|  7 | RF_50          |         100 |        100 |        80 |       52 | ❌             |\n",
            "|  8 | RF_200         |         100 |        100 |        79 |       51 | ❌             |\n",
            "+----+----------------+-------------+------------+-----------+----------+----------------+\n"
          ]
        }
      ],
      "source": [
        "fast_models_reviews(x_train, x_test, y_train, y_test)"
      ]
    },
    {
      "cell_type": "markdown",
      "metadata": {
        "id": "qv9TvqtnPo_J"
      },
      "source": [
        "#### Using Weights"
      ]
    },
    {
      "cell_type": "markdown",
      "metadata": {
        "id": "9-Wl0cbFVoiu"
      },
      "source": [
        "Lets make the weight of positive data equal to the weight of negative data"
      ]
    },
    {
      "cell_type": "code",
      "execution_count": 20,
      "metadata": {
        "colab": {
          "base_uri": "https://localhost:8080/"
        },
        "id": "4MbW9OhxQqA8",
        "outputId": "45812789-7ed4-4541-cc66-fb80b280ad4a"
      },
      "outputs": [
        {
          "data": {
            "text/plain": [
              "566.0"
            ]
          },
          "execution_count": 20,
          "metadata": {},
          "output_type": "execute_result"
        }
      ],
      "source": [
        "data_proc_weighted = data_proc.copy()\n",
        "positive_sum_weights = data_proc_weighted[data_proc_weighted['Potability'] == 1].Weights.sum()\n",
        "negative_sum_weights = data_proc_weighted[data_proc_weighted['Potability'] == 0].Weights.sum()\n",
        "\n",
        "ratio = negative_sum_weights/positive_sum_weights\n",
        "data_proc_weighted.loc[data_proc_weighted['Potability'] == 0, \"Weights\"] /= ratio\n",
        "data_proc_weighted[data_proc_weighted['Potability'] == 0][\"Weights\"].sum()"
      ]
    },
    {
      "cell_type": "markdown",
      "metadata": {
        "id": "4rkWzIWHWHaM"
      },
      "source": [
        "##### Split and rebuild weights"
      ]
    },
    {
      "cell_type": "code",
      "execution_count": 21,
      "metadata": {
        "id": "wR5ebaucPr7P"
      },
      "outputs": [],
      "source": [
        "training_columns = ['ph', 'Hardness', 'Solids', 'Chloramines', 'Sulfate', 'Conductivity','Organic_carbon', 'Trihalomethanes', 'Turbidity']\n",
        "predict_column = ['Potability']\n",
        "# Weights are not yet seprated with data\n",
        "w_X_weighted, Y_weighted = data_proc_weighted[['Weights'] + training_columns], data_proc_weighted[predict_column]\n",
        "w_x_train, w_x_test, y_train, y_test = train_test_split(w_X_weighted, Y_weighted, test_size = 0.2)\n",
        "# Seprating weights from data\n",
        "w_train, x_train = w_x_train[\"Weights\"], w_x_train[training_columns]\n",
        "w_test, x_test = w_x_test[\"Weights\"], w_x_test[training_columns]"
      ]
    },
    {
      "cell_type": "markdown",
      "metadata": {
        "id": "HlGewmN8M15A"
      },
      "source": [
        "Why we should not use `w_test` ? \n",
        "\n",
        "*   In order to compare it with the SMOTE methode, We should have the same data distribution. \n",
        "*   In production, we will not have any knowledge about the weight we should give to our samples\n",
        "\n"
      ]
    },
    {
      "cell_type": "markdown",
      "metadata": {
        "id": "pPnGw2vjXykR"
      },
      "source": [
        "##### Testing models"
      ]
    },
    {
      "cell_type": "code",
      "execution_count": 22,
      "metadata": {
        "colab": {
          "base_uri": "https://localhost:8080/",
          "height": 608
        },
        "id": "tHaNf7VSXiNl",
        "outputId": "818aceee-d3b1-45d7-a9b4-be5b823c0d0a"
      },
      "outputs": [
        {
          "name": "stdout",
          "output_type": "stream",
          "text": [
            "For Training dataset : \n",
            "Accuracy :  1.0\n"
          ]
        },
        {
          "data": {
            "image/png": "[encoded data removed]",
            "text/plain": [
              "<Figure size 432x288 with 2 Axes>"
            ]
          },
          "metadata": {
            "needs_background": "light"
          },
          "output_type": "display_data"
        },
        {
          "name": "stdout",
          "output_type": "stream",
          "text": [
            "For Dev set :\n",
            "Accuracy :  0.8475609756097561\n"
          ]
        },
        {
          "data": {
            "image/png": "[encoded data removed]",
            "text/plain": [
              "<Figure size 432x288 with 2 Axes>"
            ]
          },
          "metadata": {
            "needs_background": "light"
          },
          "output_type": "display_data"
        }
      ],
      "source": [
        "model = RandomForestClassifier(n_estimators=50)\n",
        "\n",
        "model.fit(x_train, y_train, w_train)\n",
        "\n",
        "y_pred_train = model.predict(x_train)\n",
        "y_pred_test = model.predict(x_test)\n",
        "\n",
        "score(y_train, y_pred_train, y_test, y_pred_test, w_train, None)"
      ]
    },
    {
      "cell_type": "code",
      "execution_count": 23,
      "metadata": {
        "colab": {
          "base_uri": "https://localhost:8080/"
        },
        "id": "bMIlRd8rkpzd",
        "outputId": "2a9bc659-d637-413c-ef8a-02a81eba961d"
      },
      "outputs": [
        {
          "name": "stdout",
          "output_type": "stream",
          "text": [
            "+----+----------------+-------------+------------+-----------+----------+----------------+\n",
            "|    | Model          |   Train ACC |   Train F1 |   Dev ACC |   Dev F1 | Used Weights   |\n",
            "|----+----------------+-------------+------------+-----------+----------+----------------|\n",
            "|  0 | SVC            |          78 |         81 |        68 |       47 | ✅             |\n",
            "|  1 | SVC_100000_0.1 |         100 |        100 |        77 |       40 | ✅             |\n",
            "|  2 | KNN            |          85 |         48 |        83 |       35 | ❌             |\n",
            "|  3 | XGB_50         |          83 |         85 |        75 |       57 | ✅             |\n",
            "|  4 | XGB_200        |          90 |         91 |        77 |       57 | ✅             |\n",
            "|  5 | ADA_50         |          51 |         67 |        76 |       56 | ✅             |\n",
            "|  6 | ADA_200        |          64 |         64 |        62 |       28 | ✅             |\n",
            "|  7 | RF_50          |          99 |         99 |        83 |        1 | ✅             |\n",
            "|  8 | RF_200         |         100 |        100 |        83 |        3 | ✅             |\n",
            "+----+----------------+-------------+------------+-----------+----------+----------------+\n"
          ]
        }
      ],
      "source": [
        "fast_models_reviews(x_train, x_test, y_train, y_test, True, w_train, None)"
      ]
    },
    {
      "cell_type": "markdown",
      "metadata": {
        "id": "zoIEFNn41M_T"
      },
      "source": [
        "#### Conclusion"
      ]
    },
    {
      "cell_type": "markdown",
      "metadata": {
        "id": "6m-BJiP8ndVb"
      },
      "source": [
        "As we can see SMOTE and Weithed methods are giving some similar results, we can notice that the accuracy of the weighted mehtode is better. But in the future we are going to use the SMOTE method.\n",
        "\n",
        "The reason behind is simply that the BayesSearchCV doesn't support weights. So we are going to use the SMOTE method."
      ]
    },
    {
      "cell_type": "markdown",
      "metadata": {
        "id": "otoBpH_ssuFF"
      },
      "source": [
        "# Fine Tuning"
      ]
    },
    {
      "cell_type": "markdown",
      "metadata": {
        "id": "0y-3D12YwKQB"
      },
      "source": [
        "We are going to consider 2 models : `GradientBoosting` and  `RandomForest`. In this section we are going to use BayesSearch to quickly fine tune those 2 models."
      ]
    },
    {
      "cell_type": "markdown",
      "metadata": {
        "id": "HU1Jhru4s2A9"
      },
      "source": [
        "First lets build our datasets with the previous weighted method by using our imputed and weighted data."
      ]
    },
    {
      "cell_type": "code",
      "execution_count": 83,
      "metadata": {
        "id": "9gbBsr1EtBal"
      },
      "outputs": [],
      "source": [
        "training_columns = ['ph', 'Hardness', 'Solids', 'Chloramines', 'Sulfate', 'Conductivity','Organic_carbon', 'Trihalomethanes', 'Turbidity']\n",
        "predict_column = ['Potability']\n",
        "\n",
        "x_train, x_test, y_train, y_test = train_test_split(data_proc[training_columns], data_proc[predict_column], test_size = 0.2)\n",
        "\n",
        "oversampler = SMOTE(k_neighbors=2)\n",
        "x_train, y_train = oversampler.fit_resample(x_train, y_train)"
      ]
    },
    {
      "cell_type": "markdown",
      "metadata": {
        "id": "JCM56JdZwDUP"
      },
      "source": [
        "## Searching and Cross validation"
      ]
    },
    {
      "cell_type": "markdown",
      "metadata": {
        "id": "hRqw1zwUwH_W"
      },
      "source": [
        "Lets first use Bayes search for RandomForest"
      ]
    },
    {
      "cell_type": "markdown",
      "metadata": {
        "id": "nuIgGVPJCgD0"
      },
      "source": [
        "### Random Forest"
      ]
    },
    {
      "cell_type": "code",
      "execution_count": 59,
      "metadata": {
        "colab": {
          "base_uri": "https://localhost:8080/"
        },
        "id": "1sUVwm33uUYA",
        "outputId": "42611d15-6757-4868-becb-7320a8964f10"
      },
      "outputs": [
        {
          "name": "stdout",
          "output_type": "stream",
          "text": [
            "****************************************************************************************************Pipeline(steps=[('Scaler', StandardScaler()), ('Square', Square()),\n",
            "                ('RF',\n",
            "                 RandomForestClassifier(class_weight='balanced_subsample',\n",
            "                                        max_features=2, n_estimators=109))])\n"
          ]
        },
        {
          "data": {
            "text/plain": [
              "0.774390243902439"
            ]
          },
          "execution_count": 59,
          "metadata": {},
          "output_type": "execute_result"
        }
      ],
      "source": [
        "\n",
        "pipe = Pipeline([(\"Scaler\", StandardScaler()), (\"Square\", Square()), (\"RF\", RandomForestClassifier())])\n",
        "\n",
        "opt_RF = BayesSearchCV(\n",
        "    pipe,\n",
        "    {\n",
        "        \"RF__n_estimators\": Integer(10, 1000, prior=\"log-uniform\"),\n",
        "        \"RF__criterion\" : Categorical([\"gini\", \"entropy\"]),\n",
        "        \"RF__min_samples_split\" : Integer(2,6),\n",
        "        \"RF__min_samples_leaf\" : Integer(1,3),\n",
        "        \"RF__max_features\" : Integer(2,6),\n",
        "        \"RF__class_weight\" : Categorical([\"balanced\", \"balanced_subsample\", None]),\n",
        "        \"RF__max_samples\" : Categorical([0.5, 0.7, 0.9, None])\n",
        "    },\n",
        "    random_state = 5900,\n",
        "    n_iter = 100,\n",
        "    n_jobs=-1\n",
        ")\n",
        "res = opt_RF.fit(x_train, y_train, callback=callback_notifier)\n",
        "print(opt_RF.best_estimator_)\n",
        "opt_RF.score(x_test, y_test)"
      ]
    },
    {
      "cell_type": "markdown",
      "metadata": {
        "id": "5IoI5DQlCilB"
      },
      "source": [
        "### Gradient Boosting"
      ]
    },
    {
      "cell_type": "code",
      "execution_count": 60,
      "metadata": {
        "colab": {
          "base_uri": "https://localhost:8080/"
        },
        "id": "EtAIqEIx22NC",
        "outputId": "253d23b9-3a21-42e4-c73d-34c1f892940c"
      },
      "outputs": [
        {
          "name": "stdout",
          "output_type": "stream",
          "text": [
            "****************************************************************************************************Pipeline(steps=[('Scaler', StandardScaler()), ('Square', Square()),\n",
            "                ('XGB',\n",
            "                 GradientBoostingClassifier(learning_rate=0.15212053377597556,\n",
            "                                            max_depth=5, max_features=4,\n",
            "                                            min_samples_leaf=3,\n",
            "                                            min_samples_split=4,\n",
            "                                            n_estimators=500, subsample=0.7))])\n"
          ]
        },
        {
          "data": {
            "text/plain": [
              "0.7911585365853658"
            ]
          },
          "execution_count": 60,
          "metadata": {},
          "output_type": "execute_result"
        }
      ],
      "source": [
        "pipe = Pipeline([(\"Scaler\", StandardScaler()), (\"Square\", Square()), (\"XGB\", GradientBoostingClassifier())])\n",
        "\n",
        "opt_XGB = BayesSearchCV(\n",
        "    pipe,\n",
        "    {\n",
        "        \"XGB__loss\" : Categorical([\"deviance\", \"exponential\"]),\n",
        "        \"XGB__learning_rate\" : Real(0.001, 10, prior=\"log-uniform\"),\n",
        "        \"XGB__n_estimators\" : Integer(10, 500, prior=\"log-uniform\"),\n",
        "        \"XGB__subsample\" : Categorical([0.3,0.7,1.0]),\n",
        "        \"XGB__min_samples_split\": Integer(2,6),\n",
        "        \"XGB__min_samples_leaf\" : Integer(1,3),\n",
        "        \"XGB__max_depth\" : Integer(2,5),\n",
        "        \"XGB__max_features\" : Categorical([4, 6, 8, None])\n",
        "    },\n",
        "    random_state = 5900,\n",
        "    n_iter = 100,\n",
        "    n_jobs=-1\n",
        ")\n",
        "def callback_notifier(res):\n",
        "  print(\"*\",end=\"\")\n",
        "res = opt_XGB.fit(x_train, y_train, callback=callback_notifier)\n",
        "\n",
        "print(opt_XGB.best_estimator_)\n",
        "opt_XGB.score(x_test, y_test)"
      ]
    },
    {
      "cell_type": "markdown",
      "metadata": {
        "id": "Aou1odJQKw1O"
      },
      "source": [
        "## Voting classifier"
      ]
    },
    {
      "cell_type": "code",
      "execution_count": 80,
      "metadata": {
        "colab": {
          "base_uri": "https://localhost:8080/",
          "height": 608
        },
        "id": "qfTFK9AHFF0n",
        "outputId": "531ac7ea-1ec8-4b20-92f4-bad033a78b52"
      },
      "outputs": [
        {
          "name": "stdout",
          "output_type": "stream",
          "text": [
            "For Training dataset : \n",
            "Accuracy :  1.0\n"
          ]
        },
        {
          "data": {
            "image/png": "[encoded data removed]",
            "text/plain": [
              "<Figure size 432x288 with 2 Axes>"
            ]
          },
          "metadata": {
            "needs_background": "light"
          },
          "output_type": "display_data"
        },
        {
          "name": "stdout",
          "output_type": "stream",
          "text": [
            "For Dev set :\n",
            "Accuracy :  0.788109756097561\n"
          ]
        },
        {
          "data": {
            "image/png": "[encoded data removed]",
            "text/plain": [
              "<Figure size 432x288 with 2 Axes>"
            ]
          },
          "metadata": {
            "needs_background": "light"
          },
          "output_type": "display_data"
        }
      ],
      "source": [
        "final_model = VotingClassifier(estimators=[(\"RF\", opt_RF.best_estimator_), (\"XGB\", opt_XGB.best_estimator_)], voting=\"soft\")\n",
        "final_model.fit(x_train, y_train)\n",
        "\n",
        "y_pred_train = final_model.predict(x_train)\n",
        "y_pred_test = final_model.predict(x_test)\n",
        "\n",
        "score(y_train, y_pred_train, y_test, y_pred_test)"
      ]
    },
    {
      "cell_type": "markdown",
      "metadata": {},
      "source": [
        "# Explain Features"
      ]
    },
    {
      "cell_type": "code",
      "execution_count": null,
      "metadata": {
        "id": "hk7XZxDhOZ_Z"
      },
      "outputs": [],
      "source": [
        "# explainer = shap.TreeExplainer(final_model)\n",
        "# shap_values = explainer.shap_values(data_proc[training_columns])\n",
        "\n",
        "# shap.summary_plot(shap_values, X)"
      ]
    },
    {
      "cell_type": "markdown",
      "metadata": {},
      "source": [
        "# Semi Supervised Learning"
      ]
    },
    {
      "cell_type": "code",
      "execution_count": 84,
      "metadata": {},
      "outputs": [],
      "source": [
        "training_columns = ['ph', 'Hardness', 'Solids', 'Chloramines', 'Sulfate', 'Conductivity','Organic_carbon', 'Trihalomethanes', 'Turbidity']\n",
        "predict_column = ['Potability']\n",
        "\n",
        "X_semi_sup, y_semi_sup_true = data_proc[training_columns], data_proc[predict_column].to_numpy()\n",
        "\n",
        "y_semi_sup = y_semi_sup_true.copy()\n",
        "y_semi_sup[int(len(y_true)*0.9):] = -1 #Consider as if we already knew a lot about that dataset"
      ]
    },
    {
      "cell_type": "code",
      "execution_count": 85,
      "metadata": {},
      "outputs": [
        {
          "data": {
            "image/png": "[encoded data removed]",
            "text/plain": [
              "<Figure size 1080x1080 with 4 Axes>"
            ]
          },
          "metadata": {
            "needs_background": "light"
          },
          "output_type": "display_data"
        }
      ],
      "source": [
        "n_splits = 5\n",
        "\n",
        "total_samples = y_semi_sup.shape[0]\n",
        "\n",
        "base_classifier = final_model\n",
        "\n",
        "threshold_values = np.arange(0.4, 1.00, 0.05)\n",
        "scores_accuracy = np.empty((threshold_values.shape[0], n_splits))\n",
        "scores_auc = np.empty((threshold_values.shape[0], n_splits))\n",
        "amount_labeled = np.empty((threshold_values.shape[0], n_splits))\n",
        "max_iter = np.empty((threshold_values.shape[0], n_splits))\n",
        "\n",
        "for i, threshold in enumerate(threshold_values):\n",
        "    self_training_model = SelfTrainingClassifier(base_classifier,\n",
        "                                           threshold=threshold)\n",
        "    skfolds = StratifiedKFold(n_splits=n_splits)\n",
        "    for fold, (train_index, test_index) in enumerate(skfolds.split(X_semi_sup, y_semi_sup)):\n",
        "        X_train = X_semi_sup.iloc[train_index,:]\n",
        "        y_train = y_semi_sup[train_index]\n",
        "        X_test = X_semi_sup.iloc[test_index,:]\n",
        "        y_test = y_semi_sup[test_index]\n",
        "        y_test_true = y_semi_sup_true[test_index]\n",
        "\n",
        "        self_training_model.fit(X_train, y_train)\n",
        "\n",
        "        y_pred = self_training_model.predict(X_test)\n",
        "        scores_accuracy[i, fold] = accuracy_score(y_test_true, y_pred)\n",
        "        scores_auc[i, fold] = roc_auc_score(y_test_true, y_pred)\n",
        "        \n",
        "        # The amount of labeled samples that at the end of fitting\n",
        "        amount_labeled[i, fold] = total_samples - np.unique(\n",
        "            self_training_model.labeled_iter_, return_counts=True)[1][0]\n",
        "        # The last iteration the classifier labeled a sample in\n",
        "        max_iter[i, fold] = np.max(self_training_model.labeled_iter_)\n",
        "\n",
        "\n",
        "# We plot the different quantities thanks to an errorbar, i.e we display mean and standard deviation in the plot\n",
        "fig, ax = plt.subplots(2,2, figsize=(15,15))\n",
        "fig.suptitle('Evaluation of the Treshold impact on Self Training performances')\n",
        "ax[0, 0].errorbar(threshold_values, scores_accuracy.mean(axis=1),\n",
        "             yerr=scores_accuracy.std(axis=1),\n",
        "             capsize=2, color='b')\n",
        "ax[0, 0].set_ylabel('Accuracy')\n",
        "ax[0, 0].set_xlabel('Threshold')\n",
        "\n",
        "ax[1, 0].errorbar(threshold_values, scores_auc.mean(axis=1),\n",
        "             yerr=scores_auc.std(axis=1),\n",
        "             capsize=2, color='b')\n",
        "ax[1, 0].set_ylabel('AUC')\n",
        "ax[1, 0].set_xlabel('Threshold')\n",
        "\n",
        "ax[0, 1].errorbar(threshold_values, amount_labeled.mean(axis=1),\n",
        "             yerr=amount_labeled.std(axis=1),\n",
        "             capsize=2, color='b')\n",
        "ax[0, 1].set_ylabel('Number of labeled samples')\n",
        "ax[0, 1].set_xlabel('Threshold')\n",
        "\n",
        "ax[1, 1].errorbar(threshold_values, max_iter.mean(axis=1),\n",
        "             yerr=max_iter.std(axis=1),\n",
        "             capsize=2, color='b')\n",
        "ax[1, 1].set_ylabel('Number of iterations')\n",
        "ax[1, 1].set_xlabel('Threshold')\n",
        "\n",
        "\n",
        "plt.show()"
      ]
    },
    {
      "cell_type": "code",
      "execution_count": null,
      "metadata": {},
      "outputs": [],
      "source": []
    }
  ],
  "metadata": {
    "colab": {
      "name": "inference.ipynb",
      "provenance": [],
      "toc_visible": true
    },
    "interpreter": {
      "hash": "00f8b6a529d4a87e56a80115d87724b6edf8720afa22f229ab58fd82e4e251b2"
    },
    "kernelspec": {
      "display_name": "Python 3.9.6 64-bit",
      "name": "python3"
    },
    "language_info": {
      "codemirror_mode": {
        "name": "ipython",
        "version": 3
      },
      "file_extension": ".py",
      "mimetype": "text/x-python",
      "name": "python",
      "nbconvert_exporter": "python",
      "pygments_lexer": "ipython3",
      "version": "3.9.6"
    },
    "orig_nbformat": 4
  },
  "nbformat": 4,
  "nbformat_minor": 0
}
